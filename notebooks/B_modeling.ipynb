{
 "cells": [
  {
   "cell_type": "code",
   "execution_count": 1,
   "id": "49a82f5c-e50d-4e63-8355-917d63eb5f6d",
   "metadata": {},
   "outputs": [
    {
     "name": "stdout",
     "output_type": "stream",
     "text": [
      "\n",
      "\u001b[1m[\u001b[0m\u001b[34;49mnotice\u001b[0m\u001b[1;39;49m]\u001b[0m\u001b[39;49m A new release of pip is available: \u001b[0m\u001b[31;49m25.0.1\u001b[0m\u001b[39;49m -> \u001b[0m\u001b[32;49m25.1.1\u001b[0m\n",
      "\u001b[1m[\u001b[0m\u001b[34;49mnotice\u001b[0m\u001b[1;39;49m]\u001b[0m\u001b[39;49m To update, run: \u001b[0m\u001b[32;49mpip3 install --upgrade pip\u001b[0m\n"
     ]
    }
   ],
   "source": [
    "!pip3 install imbalanced-learn -q"
   ]
  },
  {
   "cell_type": "code",
   "execution_count": 2,
   "id": "043e69f2-9069-411b-b683-5fd000bff887",
   "metadata": {},
   "outputs": [],
   "source": [
    "import pandas as pd\n",
    "import plotly.graph_objs as go\n",
    "import plotly.express as px\n",
    "import matplotlib.pyplot as plt\n",
    "import plotly.subplots as sp\n",
    "from scipy.stats import shapiro\n",
    "from sklearn.model_selection import train_test_split\n",
    "import json\n",
    "from imblearn.over_sampling import ADASYN\n",
    "import numpy as np\n",
    "import warnings\n",
    "warnings.filterwarnings('ignore')\n",
    "\n",
    "from sklearn.preprocessing import StandardScaler\n",
    "from sklearn.linear_model import LogisticRegression\n",
    "from sklearn.ensemble import GradientBoostingClassifier\n",
    "from sklearn.metrics import classification_report, roc_auc_score"
   ]
  },
  {
   "cell_type": "code",
   "execution_count": 3,
   "id": "4520bbb3-d180-4f7b-8c2d-ec7f5df3e17a",
   "metadata": {},
   "outputs": [
    {
     "data": {
      "text/html": [
       "<div>\n",
       "<style scoped>\n",
       "    .dataframe tbody tr th:only-of-type {\n",
       "        vertical-align: middle;\n",
       "    }\n",
       "\n",
       "    .dataframe tbody tr th {\n",
       "        vertical-align: top;\n",
       "    }\n",
       "\n",
       "    .dataframe thead th {\n",
       "        text-align: right;\n",
       "    }\n",
       "</style>\n",
       "<table border=\"1\" class=\"dataframe\">\n",
       "  <thead>\n",
       "    <tr style=\"text-align: right;\">\n",
       "      <th></th>\n",
       "      <th>age</th>\n",
       "      <th>monthly_income</th>\n",
       "      <th>loan_amount</th>\n",
       "      <th>previous_defaults</th>\n",
       "      <th>credit_score</th>\n",
       "      <th>default</th>\n",
       "    </tr>\n",
       "  </thead>\n",
       "  <tbody>\n",
       "    <tr>\n",
       "      <th>0</th>\n",
       "      <td>41</td>\n",
       "      <td>13995609</td>\n",
       "      <td>5982664</td>\n",
       "      <td>0</td>\n",
       "      <td>624</td>\n",
       "      <td>0</td>\n",
       "    </tr>\n",
       "    <tr>\n",
       "      <th>1</th>\n",
       "      <td>58</td>\n",
       "      <td>13683833</td>\n",
       "      <td>3711198</td>\n",
       "      <td>0</td>\n",
       "      <td>809</td>\n",
       "      <td>0</td>\n",
       "    </tr>\n",
       "    <tr>\n",
       "      <th>2</th>\n",
       "      <td>33</td>\n",
       "      <td>9417391</td>\n",
       "      <td>7172332</td>\n",
       "      <td>0</td>\n",
       "      <td>647</td>\n",
       "      <td>0</td>\n",
       "    </tr>\n",
       "    <tr>\n",
       "      <th>3</th>\n",
       "      <td>45</td>\n",
       "      <td>6861811</td>\n",
       "      <td>8661056</td>\n",
       "      <td>0</td>\n",
       "      <td>450</td>\n",
       "      <td>0</td>\n",
       "    </tr>\n",
       "    <tr>\n",
       "      <th>4</th>\n",
       "      <td>22</td>\n",
       "      <td>5640742</td>\n",
       "      <td>4520669</td>\n",
       "      <td>1</td>\n",
       "      <td>816</td>\n",
       "      <td>0</td>\n",
       "    </tr>\n",
       "    <tr>\n",
       "      <th>...</th>\n",
       "      <td>...</td>\n",
       "      <td>...</td>\n",
       "      <td>...</td>\n",
       "      <td>...</td>\n",
       "      <td>...</td>\n",
       "      <td>...</td>\n",
       "    </tr>\n",
       "    <tr>\n",
       "      <th>5995</th>\n",
       "      <td>26</td>\n",
       "      <td>18253018</td>\n",
       "      <td>3690565</td>\n",
       "      <td>2</td>\n",
       "      <td>729</td>\n",
       "      <td>0</td>\n",
       "    </tr>\n",
       "    <tr>\n",
       "      <th>5996</th>\n",
       "      <td>40</td>\n",
       "      <td>9944385</td>\n",
       "      <td>4082038</td>\n",
       "      <td>1</td>\n",
       "      <td>477</td>\n",
       "      <td>0</td>\n",
       "    </tr>\n",
       "    <tr>\n",
       "      <th>5997</th>\n",
       "      <td>28</td>\n",
       "      <td>9048532</td>\n",
       "      <td>14760384</td>\n",
       "      <td>0</td>\n",
       "      <td>450</td>\n",
       "      <td>0</td>\n",
       "    </tr>\n",
       "    <tr>\n",
       "      <th>5998</th>\n",
       "      <td>51</td>\n",
       "      <td>6843160</td>\n",
       "      <td>11774594</td>\n",
       "      <td>0</td>\n",
       "      <td>561</td>\n",
       "      <td>0</td>\n",
       "    </tr>\n",
       "    <tr>\n",
       "      <th>5999</th>\n",
       "      <td>35</td>\n",
       "      <td>12715733</td>\n",
       "      <td>8006387</td>\n",
       "      <td>0</td>\n",
       "      <td>774</td>\n",
       "      <td>0</td>\n",
       "    </tr>\n",
       "  </tbody>\n",
       "</table>\n",
       "<p>6000 rows × 6 columns</p>\n",
       "</div>"
      ],
      "text/plain": [
       "      age  monthly_income  loan_amount  previous_defaults  credit_score  \\\n",
       "0      41        13995609      5982664                  0           624   \n",
       "1      58        13683833      3711198                  0           809   \n",
       "2      33         9417391      7172332                  0           647   \n",
       "3      45         6861811      8661056                  0           450   \n",
       "4      22         5640742      4520669                  1           816   \n",
       "...   ...             ...          ...                ...           ...   \n",
       "5995   26        18253018      3690565                  2           729   \n",
       "5996   40         9944385      4082038                  1           477   \n",
       "5997   28         9048532     14760384                  0           450   \n",
       "5998   51         6843160     11774594                  0           561   \n",
       "5999   35        12715733      8006387                  0           774   \n",
       "\n",
       "      default  \n",
       "0           0  \n",
       "1           0  \n",
       "2           0  \n",
       "3           0  \n",
       "4           0  \n",
       "...       ...  \n",
       "5995        0  \n",
       "5996        0  \n",
       "5997        0  \n",
       "5998        0  \n",
       "5999        0  \n",
       "\n",
       "[6000 rows x 6 columns]"
      ]
     },
     "execution_count": 3,
     "metadata": {},
     "output_type": "execute_result"
    }
   ],
   "source": [
    "# Load data\n",
    "df = pd.read_csv('../data/credit_scoring.csv')\n",
    "\n",
    "# Drop kolom leakage\n",
    "leak_cols = ['leak_col_good', 'leak_col_subtle']\n",
    "df_clean = df.drop(columns=leak_cols)\n",
    "\n",
    "# Drop application_id (tidak informatif untuk prediksi)\n",
    "df_clean = df_clean.drop(columns=['application_id'])\n",
    "\n",
    "df_clean"
   ]
  },
  {
   "cell_type": "code",
   "execution_count": 4,
   "id": "be4001a3-1cbc-489f-93a8-073c54065ffd",
   "metadata": {},
   "outputs": [
    {
     "name": "stdout",
     "output_type": "stream",
     "text": [
      "<class 'pandas.core.frame.DataFrame'>\n",
      "RangeIndex: 6000 entries, 0 to 5999\n",
      "Data columns (total 6 columns):\n",
      " #   Column             Non-Null Count  Dtype\n",
      "---  ------             --------------  -----\n",
      " 0   age                6000 non-null   int64\n",
      " 1   monthly_income     6000 non-null   int64\n",
      " 2   loan_amount        6000 non-null   int64\n",
      " 3   previous_defaults  6000 non-null   int64\n",
      " 4   credit_score       6000 non-null   int64\n",
      " 5   default            6000 non-null   int64\n",
      "dtypes: int64(6)\n",
      "memory usage: 281.4 KB\n"
     ]
    }
   ],
   "source": [
    "# Melihat tipe data dan null data\n",
    "\n",
    "df_clean.info()"
   ]
  },
  {
   "cell_type": "code",
   "execution_count": 5,
   "id": "de1942ad-a9b6-4798-93b4-a593e85bb543",
   "metadata": {},
   "outputs": [
    {
     "data": {
      "text/html": [
       "<div>\n",
       "<style scoped>\n",
       "    .dataframe tbody tr th:only-of-type {\n",
       "        vertical-align: middle;\n",
       "    }\n",
       "\n",
       "    .dataframe tbody tr th {\n",
       "        vertical-align: top;\n",
       "    }\n",
       "\n",
       "    .dataframe thead th {\n",
       "        text-align: right;\n",
       "    }\n",
       "</style>\n",
       "<table border=\"1\" class=\"dataframe\">\n",
       "  <thead>\n",
       "    <tr style=\"text-align: right;\">\n",
       "      <th></th>\n",
       "      <th>age</th>\n",
       "      <th>monthly_income</th>\n",
       "      <th>loan_amount</th>\n",
       "      <th>previous_defaults</th>\n",
       "      <th>credit_score</th>\n",
       "      <th>default</th>\n",
       "    </tr>\n",
       "  </thead>\n",
       "  <tbody>\n",
       "    <tr>\n",
       "      <th>count</th>\n",
       "      <td>6000.000000</td>\n",
       "      <td>6.000000e+03</td>\n",
       "      <td>6.000000e+03</td>\n",
       "      <td>6000.000000</td>\n",
       "      <td>6000.000000</td>\n",
       "      <td>6000.000000</td>\n",
       "    </tr>\n",
       "    <tr>\n",
       "      <th>mean</th>\n",
       "      <td>40.321500</td>\n",
       "      <td>1.140386e+07</td>\n",
       "      <td>8.001122e+06</td>\n",
       "      <td>0.243667</td>\n",
       "      <td>575.979833</td>\n",
       "      <td>0.012167</td>\n",
       "    </tr>\n",
       "    <tr>\n",
       "      <th>std</th>\n",
       "      <td>11.300697</td>\n",
       "      <td>4.912598e+06</td>\n",
       "      <td>4.071786e+06</td>\n",
       "      <td>0.484767</td>\n",
       "      <td>158.328931</td>\n",
       "      <td>0.109639</td>\n",
       "    </tr>\n",
       "    <tr>\n",
       "      <th>min</th>\n",
       "      <td>21.000000</td>\n",
       "      <td>3.000310e+06</td>\n",
       "      <td>1.000794e+06</td>\n",
       "      <td>0.000000</td>\n",
       "      <td>300.000000</td>\n",
       "      <td>0.000000</td>\n",
       "    </tr>\n",
       "    <tr>\n",
       "      <th>25%</th>\n",
       "      <td>31.000000</td>\n",
       "      <td>7.163379e+06</td>\n",
       "      <td>4.440939e+06</td>\n",
       "      <td>0.000000</td>\n",
       "      <td>438.750000</td>\n",
       "      <td>0.000000</td>\n",
       "    </tr>\n",
       "    <tr>\n",
       "      <th>50%</th>\n",
       "      <td>41.000000</td>\n",
       "      <td>1.129945e+07</td>\n",
       "      <td>7.982304e+06</td>\n",
       "      <td>0.000000</td>\n",
       "      <td>577.500000</td>\n",
       "      <td>0.000000</td>\n",
       "    </tr>\n",
       "    <tr>\n",
       "      <th>75%</th>\n",
       "      <td>50.000000</td>\n",
       "      <td>1.573705e+07</td>\n",
       "      <td>1.153144e+07</td>\n",
       "      <td>0.000000</td>\n",
       "      <td>713.000000</td>\n",
       "      <td>0.000000</td>\n",
       "    </tr>\n",
       "    <tr>\n",
       "      <th>max</th>\n",
       "      <td>59.000000</td>\n",
       "      <td>1.998622e+07</td>\n",
       "      <td>1.499858e+07</td>\n",
       "      <td>3.000000</td>\n",
       "      <td>849.000000</td>\n",
       "      <td>1.000000</td>\n",
       "    </tr>\n",
       "  </tbody>\n",
       "</table>\n",
       "</div>"
      ],
      "text/plain": [
       "               age  monthly_income   loan_amount  previous_defaults  \\\n",
       "count  6000.000000    6.000000e+03  6.000000e+03        6000.000000   \n",
       "mean     40.321500    1.140386e+07  8.001122e+06           0.243667   \n",
       "std      11.300697    4.912598e+06  4.071786e+06           0.484767   \n",
       "min      21.000000    3.000310e+06  1.000794e+06           0.000000   \n",
       "25%      31.000000    7.163379e+06  4.440939e+06           0.000000   \n",
       "50%      41.000000    1.129945e+07  7.982304e+06           0.000000   \n",
       "75%      50.000000    1.573705e+07  1.153144e+07           0.000000   \n",
       "max      59.000000    1.998622e+07  1.499858e+07           3.000000   \n",
       "\n",
       "       credit_score      default  \n",
       "count   6000.000000  6000.000000  \n",
       "mean     575.979833     0.012167  \n",
       "std      158.328931     0.109639  \n",
       "min      300.000000     0.000000  \n",
       "25%      438.750000     0.000000  \n",
       "50%      577.500000     0.000000  \n",
       "75%      713.000000     0.000000  \n",
       "max      849.000000     1.000000  "
      ]
     },
     "execution_count": 5,
     "metadata": {},
     "output_type": "execute_result"
    }
   ],
   "source": [
    "df_clean.describe()"
   ]
  },
  {
   "cell_type": "markdown",
   "id": "877c8ff1-185c-4f2a-a323-e86a55c5b167",
   "metadata": {},
   "source": [
    "## SPLITING DATA"
   ]
  },
  {
   "cell_type": "code",
   "execution_count": 6,
   "id": "d2b26399-db31-45fd-8eb0-5c5e89cac942",
   "metadata": {},
   "outputs": [
    {
     "name": "stdout",
     "output_type": "stream",
     "text": [
      "Train set    : 4800 rows\n",
      "Validation   : 600 rows\n",
      "Test set     : 600 rows\n",
      "\n",
      "Proporsi default (Train):      0.0121\n",
      "Proporsi default (Validation): 0.0133\n",
      "Proporsi default (Test):       0.0117\n"
     ]
    }
   ],
   "source": [
    "# Tahap 1: Split 80% ke train, 20% ke sisa (val+test)\n",
    "df_train, df_temp = train_test_split(\n",
    "    df_clean, test_size=0.2, stratify=df_clean['default'], random_state=42\n",
    ")\n",
    "\n",
    "# Tahap 2: Split sisa (20%) menjadi 10% validasi, 10% test\n",
    "df_val, df_test = train_test_split(\n",
    "    df_temp, test_size=0.5, stratify=df_temp['default'], random_state=42\n",
    ")\n",
    "\n",
    "# Hasil akhir:\n",
    "print(f\"Train set    : {df_train.shape[0]} rows\")\n",
    "print(f\"Validation   : {df_val.shape[0]} rows\")\n",
    "print(f\"Test set     : {df_test.shape[0]} rows\\n\")\n",
    "\n",
    "# Cek distribusi target di tiap subset\n",
    "print(f\"Proporsi default (Train):      {df_train['default'].mean():.4f}\")\n",
    "print(f\"Proporsi default (Validation): {df_val['default'].mean():.4f}\")\n",
    "print(f\"Proporsi default (Test):       {df_test['default'].mean():.4f}\")"
   ]
  },
  {
   "cell_type": "markdown",
   "id": "7645db1b-9450-405f-838f-32bd9b36e285",
   "metadata": {},
   "source": [
    "## EDA"
   ]
  },
  {
   "cell_type": "code",
   "execution_count": 7,
   "id": "a653e63c-3d04-485a-a022-a53a6943bd00",
   "metadata": {},
   "outputs": [
    {
     "data": {
      "application/vnd.plotly.v1+json": {
       "config": {
        "plotlyServerURL": "https://plot.ly"
       },
       "data": [
        {
         "cells": {
          "values": [
           [
            "age",
            "monthly_income",
            "loan_amount",
            "previous_defaults",
            "credit_score"
           ],
           [
            39,
            4800,
            4800,
            4,
            550
           ]
          ]
         },
         "header": {
          "values": [
           "Kolom",
           "Jumlah Nilai Unik"
          ]
         },
         "type": "table"
        }
       ],
       "layout": {
        "template": {
         "data": {
          "bar": [
           {
            "error_x": {
             "color": "#2a3f5f"
            },
            "error_y": {
             "color": "#2a3f5f"
            },
            "marker": {
             "line": {
              "color": "#E5ECF6",
              "width": 0.5
             },
             "pattern": {
              "fillmode": "overlay",
              "size": 10,
              "solidity": 0.2
             }
            },
            "type": "bar"
           }
          ],
          "barpolar": [
           {
            "marker": {
             "line": {
              "color": "#E5ECF6",
              "width": 0.5
             },
             "pattern": {
              "fillmode": "overlay",
              "size": 10,
              "solidity": 0.2
             }
            },
            "type": "barpolar"
           }
          ],
          "carpet": [
           {
            "aaxis": {
             "endlinecolor": "#2a3f5f",
             "gridcolor": "white",
             "linecolor": "white",
             "minorgridcolor": "white",
             "startlinecolor": "#2a3f5f"
            },
            "baxis": {
             "endlinecolor": "#2a3f5f",
             "gridcolor": "white",
             "linecolor": "white",
             "minorgridcolor": "white",
             "startlinecolor": "#2a3f5f"
            },
            "type": "carpet"
           }
          ],
          "choropleth": [
           {
            "colorbar": {
             "outlinewidth": 0,
             "ticks": ""
            },
            "type": "choropleth"
           }
          ],
          "contour": [
           {
            "colorbar": {
             "outlinewidth": 0,
             "ticks": ""
            },
            "colorscale": [
             [
              0,
              "#0d0887"
             ],
             [
              0.1111111111111111,
              "#46039f"
             ],
             [
              0.2222222222222222,
              "#7201a8"
             ],
             [
              0.3333333333333333,
              "#9c179e"
             ],
             [
              0.4444444444444444,
              "#bd3786"
             ],
             [
              0.5555555555555556,
              "#d8576b"
             ],
             [
              0.6666666666666666,
              "#ed7953"
             ],
             [
              0.7777777777777778,
              "#fb9f3a"
             ],
             [
              0.8888888888888888,
              "#fdca26"
             ],
             [
              1,
              "#f0f921"
             ]
            ],
            "type": "contour"
           }
          ],
          "contourcarpet": [
           {
            "colorbar": {
             "outlinewidth": 0,
             "ticks": ""
            },
            "type": "contourcarpet"
           }
          ],
          "heatmap": [
           {
            "colorbar": {
             "outlinewidth": 0,
             "ticks": ""
            },
            "colorscale": [
             [
              0,
              "#0d0887"
             ],
             [
              0.1111111111111111,
              "#46039f"
             ],
             [
              0.2222222222222222,
              "#7201a8"
             ],
             [
              0.3333333333333333,
              "#9c179e"
             ],
             [
              0.4444444444444444,
              "#bd3786"
             ],
             [
              0.5555555555555556,
              "#d8576b"
             ],
             [
              0.6666666666666666,
              "#ed7953"
             ],
             [
              0.7777777777777778,
              "#fb9f3a"
             ],
             [
              0.8888888888888888,
              "#fdca26"
             ],
             [
              1,
              "#f0f921"
             ]
            ],
            "type": "heatmap"
           }
          ],
          "histogram": [
           {
            "marker": {
             "pattern": {
              "fillmode": "overlay",
              "size": 10,
              "solidity": 0.2
             }
            },
            "type": "histogram"
           }
          ],
          "histogram2d": [
           {
            "colorbar": {
             "outlinewidth": 0,
             "ticks": ""
            },
            "colorscale": [
             [
              0,
              "#0d0887"
             ],
             [
              0.1111111111111111,
              "#46039f"
             ],
             [
              0.2222222222222222,
              "#7201a8"
             ],
             [
              0.3333333333333333,
              "#9c179e"
             ],
             [
              0.4444444444444444,
              "#bd3786"
             ],
             [
              0.5555555555555556,
              "#d8576b"
             ],
             [
              0.6666666666666666,
              "#ed7953"
             ],
             [
              0.7777777777777778,
              "#fb9f3a"
             ],
             [
              0.8888888888888888,
              "#fdca26"
             ],
             [
              1,
              "#f0f921"
             ]
            ],
            "type": "histogram2d"
           }
          ],
          "histogram2dcontour": [
           {
            "colorbar": {
             "outlinewidth": 0,
             "ticks": ""
            },
            "colorscale": [
             [
              0,
              "#0d0887"
             ],
             [
              0.1111111111111111,
              "#46039f"
             ],
             [
              0.2222222222222222,
              "#7201a8"
             ],
             [
              0.3333333333333333,
              "#9c179e"
             ],
             [
              0.4444444444444444,
              "#bd3786"
             ],
             [
              0.5555555555555556,
              "#d8576b"
             ],
             [
              0.6666666666666666,
              "#ed7953"
             ],
             [
              0.7777777777777778,
              "#fb9f3a"
             ],
             [
              0.8888888888888888,
              "#fdca26"
             ],
             [
              1,
              "#f0f921"
             ]
            ],
            "type": "histogram2dcontour"
           }
          ],
          "mesh3d": [
           {
            "colorbar": {
             "outlinewidth": 0,
             "ticks": ""
            },
            "type": "mesh3d"
           }
          ],
          "parcoords": [
           {
            "line": {
             "colorbar": {
              "outlinewidth": 0,
              "ticks": ""
             }
            },
            "type": "parcoords"
           }
          ],
          "pie": [
           {
            "automargin": true,
            "type": "pie"
           }
          ],
          "scatter": [
           {
            "fillpattern": {
             "fillmode": "overlay",
             "size": 10,
             "solidity": 0.2
            },
            "type": "scatter"
           }
          ],
          "scatter3d": [
           {
            "line": {
             "colorbar": {
              "outlinewidth": 0,
              "ticks": ""
             }
            },
            "marker": {
             "colorbar": {
              "outlinewidth": 0,
              "ticks": ""
             }
            },
            "type": "scatter3d"
           }
          ],
          "scattercarpet": [
           {
            "marker": {
             "colorbar": {
              "outlinewidth": 0,
              "ticks": ""
             }
            },
            "type": "scattercarpet"
           }
          ],
          "scattergeo": [
           {
            "marker": {
             "colorbar": {
              "outlinewidth": 0,
              "ticks": ""
             }
            },
            "type": "scattergeo"
           }
          ],
          "scattergl": [
           {
            "marker": {
             "colorbar": {
              "outlinewidth": 0,
              "ticks": ""
             }
            },
            "type": "scattergl"
           }
          ],
          "scattermap": [
           {
            "marker": {
             "colorbar": {
              "outlinewidth": 0,
              "ticks": ""
             }
            },
            "type": "scattermap"
           }
          ],
          "scattermapbox": [
           {
            "marker": {
             "colorbar": {
              "outlinewidth": 0,
              "ticks": ""
             }
            },
            "type": "scattermapbox"
           }
          ],
          "scatterpolar": [
           {
            "marker": {
             "colorbar": {
              "outlinewidth": 0,
              "ticks": ""
             }
            },
            "type": "scatterpolar"
           }
          ],
          "scatterpolargl": [
           {
            "marker": {
             "colorbar": {
              "outlinewidth": 0,
              "ticks": ""
             }
            },
            "type": "scatterpolargl"
           }
          ],
          "scatterternary": [
           {
            "marker": {
             "colorbar": {
              "outlinewidth": 0,
              "ticks": ""
             }
            },
            "type": "scatterternary"
           }
          ],
          "surface": [
           {
            "colorbar": {
             "outlinewidth": 0,
             "ticks": ""
            },
            "colorscale": [
             [
              0,
              "#0d0887"
             ],
             [
              0.1111111111111111,
              "#46039f"
             ],
             [
              0.2222222222222222,
              "#7201a8"
             ],
             [
              0.3333333333333333,
              "#9c179e"
             ],
             [
              0.4444444444444444,
              "#bd3786"
             ],
             [
              0.5555555555555556,
              "#d8576b"
             ],
             [
              0.6666666666666666,
              "#ed7953"
             ],
             [
              0.7777777777777778,
              "#fb9f3a"
             ],
             [
              0.8888888888888888,
              "#fdca26"
             ],
             [
              1,
              "#f0f921"
             ]
            ],
            "type": "surface"
           }
          ],
          "table": [
           {
            "cells": {
             "fill": {
              "color": "#EBF0F8"
             },
             "line": {
              "color": "white"
             }
            },
            "header": {
             "fill": {
              "color": "#C8D4E3"
             },
             "line": {
              "color": "white"
             }
            },
            "type": "table"
           }
          ]
         },
         "layout": {
          "annotationdefaults": {
           "arrowcolor": "#2a3f5f",
           "arrowhead": 0,
           "arrowwidth": 1
          },
          "autotypenumbers": "strict",
          "coloraxis": {
           "colorbar": {
            "outlinewidth": 0,
            "ticks": ""
           }
          },
          "colorscale": {
           "diverging": [
            [
             0,
             "#8e0152"
            ],
            [
             0.1,
             "#c51b7d"
            ],
            [
             0.2,
             "#de77ae"
            ],
            [
             0.3,
             "#f1b6da"
            ],
            [
             0.4,
             "#fde0ef"
            ],
            [
             0.5,
             "#f7f7f7"
            ],
            [
             0.6,
             "#e6f5d0"
            ],
            [
             0.7,
             "#b8e186"
            ],
            [
             0.8,
             "#7fbc41"
            ],
            [
             0.9,
             "#4d9221"
            ],
            [
             1,
             "#276419"
            ]
           ],
           "sequential": [
            [
             0,
             "#0d0887"
            ],
            [
             0.1111111111111111,
             "#46039f"
            ],
            [
             0.2222222222222222,
             "#7201a8"
            ],
            [
             0.3333333333333333,
             "#9c179e"
            ],
            [
             0.4444444444444444,
             "#bd3786"
            ],
            [
             0.5555555555555556,
             "#d8576b"
            ],
            [
             0.6666666666666666,
             "#ed7953"
            ],
            [
             0.7777777777777778,
             "#fb9f3a"
            ],
            [
             0.8888888888888888,
             "#fdca26"
            ],
            [
             1,
             "#f0f921"
            ]
           ],
           "sequentialminus": [
            [
             0,
             "#0d0887"
            ],
            [
             0.1111111111111111,
             "#46039f"
            ],
            [
             0.2222222222222222,
             "#7201a8"
            ],
            [
             0.3333333333333333,
             "#9c179e"
            ],
            [
             0.4444444444444444,
             "#bd3786"
            ],
            [
             0.5555555555555556,
             "#d8576b"
            ],
            [
             0.6666666666666666,
             "#ed7953"
            ],
            [
             0.7777777777777778,
             "#fb9f3a"
            ],
            [
             0.8888888888888888,
             "#fdca26"
            ],
            [
             1,
             "#f0f921"
            ]
           ]
          },
          "colorway": [
           "#636efa",
           "#EF553B",
           "#00cc96",
           "#ab63fa",
           "#FFA15A",
           "#19d3f3",
           "#FF6692",
           "#B6E880",
           "#FF97FF",
           "#FECB52"
          ],
          "font": {
           "color": "#2a3f5f"
          },
          "geo": {
           "bgcolor": "white",
           "lakecolor": "white",
           "landcolor": "#E5ECF6",
           "showlakes": true,
           "showland": true,
           "subunitcolor": "white"
          },
          "hoverlabel": {
           "align": "left"
          },
          "hovermode": "closest",
          "mapbox": {
           "style": "light"
          },
          "paper_bgcolor": "white",
          "plot_bgcolor": "#E5ECF6",
          "polar": {
           "angularaxis": {
            "gridcolor": "white",
            "linecolor": "white",
            "ticks": ""
           },
           "bgcolor": "#E5ECF6",
           "radialaxis": {
            "gridcolor": "white",
            "linecolor": "white",
            "ticks": ""
           }
          },
          "scene": {
           "xaxis": {
            "backgroundcolor": "#E5ECF6",
            "gridcolor": "white",
            "gridwidth": 2,
            "linecolor": "white",
            "showbackground": true,
            "ticks": "",
            "zerolinecolor": "white"
           },
           "yaxis": {
            "backgroundcolor": "#E5ECF6",
            "gridcolor": "white",
            "gridwidth": 2,
            "linecolor": "white",
            "showbackground": true,
            "ticks": "",
            "zerolinecolor": "white"
           },
           "zaxis": {
            "backgroundcolor": "#E5ECF6",
            "gridcolor": "white",
            "gridwidth": 2,
            "linecolor": "white",
            "showbackground": true,
            "ticks": "",
            "zerolinecolor": "white"
           }
          },
          "shapedefaults": {
           "line": {
            "color": "#2a3f5f"
           }
          },
          "ternary": {
           "aaxis": {
            "gridcolor": "white",
            "linecolor": "white",
            "ticks": ""
           },
           "baxis": {
            "gridcolor": "white",
            "linecolor": "white",
            "ticks": ""
           },
           "bgcolor": "#E5ECF6",
           "caxis": {
            "gridcolor": "white",
            "linecolor": "white",
            "ticks": ""
           }
          },
          "title": {
           "x": 0.05
          },
          "xaxis": {
           "automargin": true,
           "gridcolor": "white",
           "linecolor": "white",
           "ticks": "",
           "title": {
            "standoff": 15
           },
           "zerolinecolor": "white",
           "zerolinewidth": 2
          },
          "yaxis": {
           "automargin": true,
           "gridcolor": "white",
           "linecolor": "white",
           "ticks": "",
           "title": {
            "standoff": 15
           },
           "zerolinecolor": "white",
           "zerolinewidth": 2
          }
         }
        },
        "title": {
         "text": "Jumlah Nilai Unik per Kolom"
        }
       }
      }
     },
     "metadata": {},
     "output_type": "display_data"
    }
   ],
   "source": [
    "# Pilih kolom numerik utama\n",
    "columns = ['age', 'monthly_income', 'loan_amount', 'previous_defaults', 'credit_score']\n",
    "\n",
    "# Hitung jumlah nilai unik\n",
    "unique_counts = [df_train[col].nunique() for col in columns]\n",
    "\n",
    "# Buat tabel interaktif\n",
    "fig = go.Figure(data=[go.Table(\n",
    "    header=dict(values=['Kolom', 'Jumlah Nilai Unik']),\n",
    "    cells=dict(values=[columns, unique_counts])\n",
    ")])\n",
    "\n",
    "fig.update_layout(title='Jumlah Nilai Unik per Kolom')\n",
    "fig.show()"
   ]
  },
  {
   "cell_type": "code",
   "execution_count": 8,
   "id": "12533fa6-c23b-4022-9799-c55f1f1c3c80",
   "metadata": {},
   "outputs": [
    {
     "data": {
      "image/png": "[encoded data removed]",
      "text/plain": [
       "<Figure size 600x300 with 1 Axes>"
      ]
     },
     "metadata": {},
     "output_type": "display_data"
    },
    {
     "data": {
      "image/png": "[encoded data removed]",
      "text/plain": [
       "<Figure size 600x300 with 1 Axes>"
      ]
     },
     "metadata": {},
     "output_type": "display_data"
    },
    {
     "data": {
      "image/png": "[encoded data removed]",
      "text/plain": [
       "<Figure size 600x300 with 1 Axes>"
      ]
     },
     "metadata": {},
     "output_type": "display_data"
    },
    {
     "data": {
      "image/png": "[encoded data removed]",
      "text/plain": [
       "<Figure size 600x300 with 1 Axes>"
      ]
     },
     "metadata": {},
     "output_type": "display_data"
    },
    {
     "data": {
      "image/png": "[encoded data removed]",
      "text/plain": [
       "<Figure size 600x300 with 1 Axes>"
      ]
     },
     "metadata": {},
     "output_type": "display_data"
    }
   ],
   "source": [
    "num_cols = df_train.select_dtypes(include='number').columns.tolist()\n",
    "num_cols.remove('default')  # tidak usah target\n",
    "\n",
    "for col in num_cols:\n",
    "    plt.figure(figsize=(6, 3))\n",
    "    plt.hist(df_clean[col], bins=20, alpha=0.7, color='skyblue')\n",
    "    plt.title(f'Histogram {col}')\n",
    "    plt.xlabel(col)\n",
    "    plt.ylabel('Count')\n",
    "    plt.show()"
   ]
  },
  {
   "cell_type": "code",
   "execution_count": 9,
   "id": "ae3644b3-495e-4997-b17c-ae1d464096ee",
   "metadata": {},
   "outputs": [
    {
     "name": "stdout",
     "output_type": "stream",
     "text": [
      "age | p-value: 0.00000 | Tidak normal\n",
      "monthly_income | p-value: 0.00000 | Tidak normal\n",
      "loan_amount | p-value: 0.00000 | Tidak normal\n",
      "credit_score | p-value: 0.00000 | Tidak normal\n"
     ]
    }
   ],
   "source": [
    "for feature in ['age', 'monthly_income', 'loan_amount', 'credit_score']:\n",
    "    stat, p = shapiro(df_train[feature].sample(500, random_state=42))  # Max 500 sample (Shapiro limit)\n",
    "    print(f'{feature} | p-value: {p:.5f} | {\"Normal\" if p>0.05 else \"Tidak normal\"}')"
   ]
  },
  {
   "cell_type": "code",
   "execution_count": 10,
   "id": "29370e33-9c38-436b-9998-bb7fced79294",
   "metadata": {},
   "outputs": [
    {
     "name": "stdout",
     "output_type": "stream",
     "text": [
      "Nilai terendah credit_score: 300\n",
      "Nilai tertinggi credit_score: 849\n"
     ]
    }
   ],
   "source": [
    "# Lihat skala apakah sudah tepat 300-850\n",
    "\n",
    "min_score = df_train['credit_score'].min()\n",
    "max_score = df_train['credit_score'].max()\n",
    "\n",
    "print(f'Nilai terendah credit_score: {min_score}')\n",
    "print(f'Nilai tertinggi credit_score: {max_score}')"
   ]
  },
  {
   "cell_type": "code",
   "execution_count": 11,
   "id": "0a91091e-71c2-4410-a893-be82a1c09100",
   "metadata": {},
   "outputs": [
    {
     "data": {
      "application/vnd.plotly.v1+json": {
       "config": {
        "plotlyServerURL": "https://plot.ly"
       },
       "data": [
        {
         "hovertemplate": "Default=%{x}<br>Jumlah=%{y}<br>text=%{text}<extra></extra>",
         "legendgroup": "",
         "marker": {
          "color": "#636efa",
          "pattern": {
           "shape": ""
          }
         },
         "name": "",
         "orientation": "v",
         "showlegend": false,
         "text": [
          "98.79%",
          "1.21%"
         ],
         "textposition": "outside",
         "type": "bar",
         "x": [
          "0",
          "1"
         ],
         "xaxis": "x",
         "y": {
          "bdata": "hhI6AA==",
          "dtype": "i2"
         },
         "yaxis": "y"
        }
       ],
       "layout": {
        "barmode": "relative",
        "legend": {
         "tracegroupgap": 0
        },
        "margin": {
         "b": 40,
         "l": 60,
         "r": 60,
         "t": 80
        },
        "template": {
         "data": {
          "bar": [
           {
            "error_x": {
             "color": "#2a3f5f"
            },
            "error_y": {
             "color": "#2a3f5f"
            },
            "marker": {
             "line": {
              "color": "#E5ECF6",
              "width": 0.5
             },
             "pattern": {
              "fillmode": "overlay",
              "size": 10,
              "solidity": 0.2
             }
            },
            "type": "bar"
           }
          ],
          "barpolar": [
           {
            "marker": {
             "line": {
              "color": "#E5ECF6",
              "width": 0.5
             },
             "pattern": {
              "fillmode": "overlay",
              "size": 10,
              "solidity": 0.2
             }
            },
            "type": "barpolar"
           }
          ],
          "carpet": [
           {
            "aaxis": {
             "endlinecolor": "#2a3f5f",
             "gridcolor": "white",
             "linecolor": "white",
             "minorgridcolor": "white",
             "startlinecolor": "#2a3f5f"
            },
            "baxis": {
             "endlinecolor": "#2a3f5f",
             "gridcolor": "white",
             "linecolor": "white",
             "minorgridcolor": "white",
             "startlinecolor": "#2a3f5f"
            },
            "type": "carpet"
           }
          ],
          "choropleth": [
           {
            "colorbar": {
             "outlinewidth": 0,
             "ticks": ""
            },
            "type": "choropleth"
           }
          ],
          "contour": [
           {
            "colorbar": {
             "outlinewidth": 0,
             "ticks": ""
            },
            "colorscale": [
             [
              0,
              "#0d0887"
             ],
             [
              0.1111111111111111,
              "#46039f"
             ],
             [
              0.2222222222222222,
              "#7201a8"
             ],
             [
              0.3333333333333333,
              "#9c179e"
             ],
             [
              0.4444444444444444,
              "#bd3786"
             ],
             [
              0.5555555555555556,
              "#d8576b"
             ],
             [
              0.6666666666666666,
              "#ed7953"
             ],
             [
              0.7777777777777778,
              "#fb9f3a"
             ],
             [
              0.8888888888888888,
              "#fdca26"
             ],
             [
              1,
              "#f0f921"
             ]
            ],
            "type": "contour"
           }
          ],
          "contourcarpet": [
           {
            "colorbar": {
             "outlinewidth": 0,
             "ticks": ""
            },
            "type": "contourcarpet"
           }
          ],
          "heatmap": [
           {
            "colorbar": {
             "outlinewidth": 0,
             "ticks": ""
            },
            "colorscale": [
             [
              0,
              "#0d0887"
             ],
             [
              0.1111111111111111,
              "#46039f"
             ],
             [
              0.2222222222222222,
              "#7201a8"
             ],
             [
              0.3333333333333333,
              "#9c179e"
             ],
             [
              0.4444444444444444,
              "#bd3786"
             ],
             [
              0.5555555555555556,
              "#d8576b"
             ],
             [
              0.6666666666666666,
              "#ed7953"
             ],
             [
              0.7777777777777778,
              "#fb9f3a"
             ],
             [
              0.8888888888888888,
              "#fdca26"
             ],
             [
              1,
              "#f0f921"
             ]
            ],
            "type": "heatmap"
           }
          ],
          "histogram": [
           {
            "marker": {
             "pattern": {
              "fillmode": "overlay",
              "size": 10,
              "solidity": 0.2
             }
            },
            "type": "histogram"
           }
          ],
          "histogram2d": [
           {
            "colorbar": {
             "outlinewidth": 0,
             "ticks": ""
            },
            "colorscale": [
             [
              0,
              "#0d0887"
             ],
             [
              0.1111111111111111,
              "#46039f"
             ],
             [
              0.2222222222222222,
              "#7201a8"
             ],
             [
              0.3333333333333333,
              "#9c179e"
             ],
             [
              0.4444444444444444,
              "#bd3786"
             ],
             [
              0.5555555555555556,
              "#d8576b"
             ],
             [
              0.6666666666666666,
              "#ed7953"
             ],
             [
              0.7777777777777778,
              "#fb9f3a"
             ],
             [
              0.8888888888888888,
              "#fdca26"
             ],
             [
              1,
              "#f0f921"
             ]
            ],
            "type": "histogram2d"
           }
          ],
          "histogram2dcontour": [
           {
            "colorbar": {
             "outlinewidth": 0,
             "ticks": ""
            },
            "colorscale": [
             [
              0,
              "#0d0887"
             ],
             [
              0.1111111111111111,
              "#46039f"
             ],
             [
              0.2222222222222222,
              "#7201a8"
             ],
             [
              0.3333333333333333,
              "#9c179e"
             ],
             [
              0.4444444444444444,
              "#bd3786"
             ],
             [
              0.5555555555555556,
              "#d8576b"
             ],
             [
              0.6666666666666666,
              "#ed7953"
             ],
             [
              0.7777777777777778,
              "#fb9f3a"
             ],
             [
              0.8888888888888888,
              "#fdca26"
             ],
             [
              1,
              "#f0f921"
             ]
            ],
            "type": "histogram2dcontour"
           }
          ],
          "mesh3d": [
           {
            "colorbar": {
             "outlinewidth": 0,
             "ticks": ""
            },
            "type": "mesh3d"
           }
          ],
          "parcoords": [
           {
            "line": {
             "colorbar": {
              "outlinewidth": 0,
              "ticks": ""
             }
            },
            "type": "parcoords"
           }
          ],
          "pie": [
           {
            "automargin": true,
            "type": "pie"
           }
          ],
          "scatter": [
           {
            "fillpattern": {
             "fillmode": "overlay",
             "size": 10,
             "solidity": 0.2
            },
            "type": "scatter"
           }
          ],
          "scatter3d": [
           {
            "line": {
             "colorbar": {
              "outlinewidth": 0,
              "ticks": ""
             }
            },
            "marker": {
             "colorbar": {
              "outlinewidth": 0,
              "ticks": ""
             }
            },
            "type": "scatter3d"
           }
          ],
          "scattercarpet": [
           {
            "marker": {
             "colorbar": {
              "outlinewidth": 0,
              "ticks": ""
             }
            },
            "type": "scattercarpet"
           }
          ],
          "scattergeo": [
           {
            "marker": {
             "colorbar": {
              "outlinewidth": 0,
              "ticks": ""
             }
            },
            "type": "scattergeo"
           }
          ],
          "scattergl": [
           {
            "marker": {
             "colorbar": {
              "outlinewidth": 0,
              "ticks": ""
             }
            },
            "type": "scattergl"
           }
          ],
          "scattermap": [
           {
            "marker": {
             "colorbar": {
              "outlinewidth": 0,
              "ticks": ""
             }
            },
            "type": "scattermap"
           }
          ],
          "scattermapbox": [
           {
            "marker": {
             "colorbar": {
              "outlinewidth": 0,
              "ticks": ""
             }
            },
            "type": "scattermapbox"
           }
          ],
          "scatterpolar": [
           {
            "marker": {
             "colorbar": {
              "outlinewidth": 0,
              "ticks": ""
             }
            },
            "type": "scatterpolar"
           }
          ],
          "scatterpolargl": [
           {
            "marker": {
             "colorbar": {
              "outlinewidth": 0,
              "ticks": ""
             }
            },
            "type": "scatterpolargl"
           }
          ],
          "scatterternary": [
           {
            "marker": {
             "colorbar": {
              "outlinewidth": 0,
              "ticks": ""
             }
            },
            "type": "scatterternary"
           }
          ],
          "surface": [
           {
            "colorbar": {
             "outlinewidth": 0,
             "ticks": ""
            },
            "colorscale": [
             [
              0,
              "#0d0887"
             ],
             [
              0.1111111111111111,
              "#46039f"
             ],
             [
              0.2222222222222222,
              "#7201a8"
             ],
             [
              0.3333333333333333,
              "#9c179e"
             ],
             [
              0.4444444444444444,
              "#bd3786"
             ],
             [
              0.5555555555555556,
              "#d8576b"
             ],
             [
              0.6666666666666666,
              "#ed7953"
             ],
             [
              0.7777777777777778,
              "#fb9f3a"
             ],
             [
              0.8888888888888888,
              "#fdca26"
             ],
             [
              1,
              "#f0f921"
             ]
            ],
            "type": "surface"
           }
          ],
          "table": [
           {
            "cells": {
             "fill": {
              "color": "#EBF0F8"
             },
             "line": {
              "color": "white"
             }
            },
            "header": {
             "fill": {
              "color": "#C8D4E3"
             },
             "line": {
              "color": "white"
             }
            },
            "type": "table"
           }
          ]
         },
         "layout": {
          "annotationdefaults": {
           "arrowcolor": "#2a3f5f",
           "arrowhead": 0,
           "arrowwidth": 1
          },
          "autotypenumbers": "strict",
          "coloraxis": {
           "colorbar": {
            "outlinewidth": 0,
            "ticks": ""
           }
          },
          "colorscale": {
           "diverging": [
            [
             0,
             "#8e0152"
            ],
            [
             0.1,
             "#c51b7d"
            ],
            [
             0.2,
             "#de77ae"
            ],
            [
             0.3,
             "#f1b6da"
            ],
            [
             0.4,
             "#fde0ef"
            ],
            [
             0.5,
             "#f7f7f7"
            ],
            [
             0.6,
             "#e6f5d0"
            ],
            [
             0.7,
             "#b8e186"
            ],
            [
             0.8,
             "#7fbc41"
            ],
            [
             0.9,
             "#4d9221"
            ],
            [
             1,
             "#276419"
            ]
           ],
           "sequential": [
            [
             0,
             "#0d0887"
            ],
            [
             0.1111111111111111,
             "#46039f"
            ],
            [
             0.2222222222222222,
             "#7201a8"
            ],
            [
             0.3333333333333333,
             "#9c179e"
            ],
            [
             0.4444444444444444,
             "#bd3786"
            ],
            [
             0.5555555555555556,
             "#d8576b"
            ],
            [
             0.6666666666666666,
             "#ed7953"
            ],
            [
             0.7777777777777778,
             "#fb9f3a"
            ],
            [
             0.8888888888888888,
             "#fdca26"
            ],
            [
             1,
             "#f0f921"
            ]
           ],
           "sequentialminus": [
            [
             0,
             "#0d0887"
            ],
            [
             0.1111111111111111,
             "#46039f"
            ],
            [
             0.2222222222222222,
             "#7201a8"
            ],
            [
             0.3333333333333333,
             "#9c179e"
            ],
            [
             0.4444444444444444,
             "#bd3786"
            ],
            [
             0.5555555555555556,
             "#d8576b"
            ],
            [
             0.6666666666666666,
             "#ed7953"
            ],
            [
             0.7777777777777778,
             "#fb9f3a"
            ],
            [
             0.8888888888888888,
             "#fdca26"
            ],
            [
             1,
             "#f0f921"
            ]
           ]
          },
          "colorway": [
           "#636efa",
           "#EF553B",
           "#00cc96",
           "#ab63fa",
           "#FFA15A",
           "#19d3f3",
           "#FF6692",
           "#B6E880",
           "#FF97FF",
           "#FECB52"
          ],
          "font": {
           "color": "#2a3f5f"
          },
          "geo": {
           "bgcolor": "white",
           "lakecolor": "white",
           "landcolor": "#E5ECF6",
           "showlakes": true,
           "showland": true,
           "subunitcolor": "white"
          },
          "hoverlabel": {
           "align": "left"
          },
          "hovermode": "closest",
          "mapbox": {
           "style": "light"
          },
          "paper_bgcolor": "white",
          "plot_bgcolor": "#E5ECF6",
          "polar": {
           "angularaxis": {
            "gridcolor": "white",
            "linecolor": "white",
            "ticks": ""
           },
           "bgcolor": "#E5ECF6",
           "radialaxis": {
            "gridcolor": "white",
            "linecolor": "white",
            "ticks": ""
           }
          },
          "scene": {
           "xaxis": {
            "backgroundcolor": "#E5ECF6",
            "gridcolor": "white",
            "gridwidth": 2,
            "linecolor": "white",
            "showbackground": true,
            "ticks": "",
            "zerolinecolor": "white"
           },
           "yaxis": {
            "backgroundcolor": "#E5ECF6",
            "gridcolor": "white",
            "gridwidth": 2,
            "linecolor": "white",
            "showbackground": true,
            "ticks": "",
            "zerolinecolor": "white"
           },
           "zaxis": {
            "backgroundcolor": "#E5ECF6",
            "gridcolor": "white",
            "gridwidth": 2,
            "linecolor": "white",
            "showbackground": true,
            "ticks": "",
            "zerolinecolor": "white"
           }
          },
          "shapedefaults": {
           "line": {
            "color": "#2a3f5f"
           }
          },
          "ternary": {
           "aaxis": {
            "gridcolor": "white",
            "linecolor": "white",
            "ticks": ""
           },
           "baxis": {
            "gridcolor": "white",
            "linecolor": "white",
            "ticks": ""
           },
           "bgcolor": "#E5ECF6",
           "caxis": {
            "gridcolor": "white",
            "linecolor": "white",
            "ticks": ""
           }
          },
          "title": {
           "x": 0.05
          },
          "xaxis": {
           "automargin": true,
           "gridcolor": "white",
           "linecolor": "white",
           "ticks": "",
           "title": {
            "standoff": 15
           },
           "zerolinecolor": "white",
           "zerolinewidth": 2
          },
          "yaxis": {
           "automargin": true,
           "gridcolor": "white",
           "linecolor": "white",
           "ticks": "",
           "title": {
            "standoff": 15
           },
           "zerolinecolor": "white",
           "zerolinewidth": 2
          }
         }
        },
        "title": {
         "text": "Distribusi Target: Default vs Non-default"
        },
        "xaxis": {
         "anchor": "y",
         "domain": [
          0,
          1
         ],
         "title": {
          "text": "Default"
         }
        },
        "yaxis": {
         "anchor": "x",
         "domain": [
          0,
          1
         ],
         "range": [
          0,
          5690.4
         ],
         "tickformat": ",d",
         "title": {
          "text": "Jumlah"
         }
        }
       }
      }
     },
     "metadata": {},
     "output_type": "display_data"
    }
   ],
   "source": [
    "# Data untuk plot\n",
    "default_counts = df_train['default'].value_counts()\n",
    "default_pct = df_train['default'].value_counts(normalize=True) * 100\n",
    "\n",
    "fig = px.bar(\n",
    "    x=default_counts.index.astype(str),\n",
    "    y=default_counts.values,\n",
    "    text=[f'{p:.2f}%' for p in default_pct],\n",
    "    labels={'x': 'Default', 'y': 'Jumlah'},\n",
    "    title='Distribusi Target: Default vs Non-default'\n",
    ")\n",
    "\n",
    "# Supaya label tidak terpotong:\n",
    "fig.update_traces(textposition='outside')\n",
    "fig.update_layout(\n",
    "    yaxis=dict(tickformat=',d', range=[0, default_counts.max() * 1.2]),  # yaxis dinaikkan\n",
    "    margin=dict(t=80, b=40, l=60, r=60)  # Tambah margin atas/bawah/kiri/kanan\n",
    ")\n",
    "\n",
    "fig.show()"
   ]
  },
  {
   "cell_type": "markdown",
   "id": "eb72045f-4897-42ae-ab8e-9184b3bb0018",
   "metadata": {},
   "source": [
    "#### ASUMSI\n",
    "\n",
    "##### - Default adalah target label:\n",
    "###### 1 = gagal bayar (default)\n",
    "###### 0 = tidak gagal bayar (tidak default)\n",
    "\n",
    "##### - previous_defaults adalah jumlah kegagalan bayar di masa lalu (di pinjaman sebelumnya, bisa 0, 1, 2, atau 3 kali)."
   ]
  },
  {
   "cell_type": "code",
   "execution_count": 12,
   "id": "114e185d-f1f9-4554-a638-a9caab25512c",
   "metadata": {},
   "outputs": [
    {
     "data": {
      "application/vnd.plotly.v1+json": {
       "config": {
        "plotlyServerURL": "https://plot.ly"
       },
       "data": [
        {
         "alignmentgroup": "True",
         "hovertemplate": "age=%{y}<extra></extra>",
         "legendgroup": "",
         "marker": {
          "color": "#636efa"
         },
         "name": "",
         "notched": false,
         "offsetgroup": "",
         "orientation": "v",
         "showlegend": false,
         "type": "box",
         "x0": " ",
         "xaxis": "x",
         "y": {
          "bdata": "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",
          "dtype": "i1"
         },
         "y0": " ",
         "yaxis": "y"
        }
       ],
       "layout": {
        "boxmode": "group",
        "legend": {
         "tracegroupgap": 0
        },
        "template": {
         "data": {
          "bar": [
           {
            "error_x": {
             "color": "#2a3f5f"
            },
            "error_y": {
             "color": "#2a3f5f"
            },
            "marker": {
             "line": {
              "color": "#E5ECF6",
              "width": 0.5
             },
             "pattern": {
              "fillmode": "overlay",
              "size": 10,
              "solidity": 0.2
             }
            },
            "type": "bar"
           }
          ],
          "barpolar": [
           {
            "marker": {
             "line": {
              "color": "#E5ECF6",
              "width": 0.5
             },
             "pattern": {
              "fillmode": "overlay",
              "size": 10,
              "solidity": 0.2
             }
            },
            "type": "barpolar"
           }
          ],
          "carpet": [
           {
            "aaxis": {
             "endlinecolor": "#2a3f5f",
             "gridcolor": "white",
             "linecolor": "white",
             "minorgridcolor": "white",
             "startlinecolor": "#2a3f5f"
            },
            "baxis": {
             "endlinecolor": "#2a3f5f",
             "gridcolor": "white",
             "linecolor": "white",
             "minorgridcolor": "white",
             "startlinecolor": "#2a3f5f"
            },
            "type": "carpet"
           }
          ],
          "choropleth": [
           {
            "colorbar": {
             "outlinewidth": 0,
             "ticks": ""
            },
            "type": "choropleth"
           }
          ],
          "contour": [
           {
            "colorbar": {
             "outlinewidth": 0,
             "ticks": ""
            },
            "colorscale": [
             [
              0,
              "#0d0887"
             ],
             [
              0.1111111111111111,
              "#46039f"
             ],
             [
              0.2222222222222222,
              "#7201a8"
             ],
             [
              0.3333333333333333,
              "#9c179e"
             ],
             [
              0.4444444444444444,
              "#bd3786"
             ],
             [
              0.5555555555555556,
              "#d8576b"
             ],
             [
              0.6666666666666666,
              "#ed7953"
             ],
             [
              0.7777777777777778,
              "#fb9f3a"
             ],
             [
              0.8888888888888888,
              "#fdca26"
             ],
             [
              1,
              "#f0f921"
             ]
            ],
            "type": "contour"
           }
          ],
          "contourcarpet": [
           {
            "colorbar": {
             "outlinewidth": 0,
             "ticks": ""
            },
            "type": "contourcarpet"
           }
          ],
          "heatmap": [
           {
            "colorbar": {
             "outlinewidth": 0,
             "ticks": ""
            },
            "colorscale": [
             [
              0,
              "#0d0887"
             ],
             [
              0.1111111111111111,
              "#46039f"
             ],
             [
              0.2222222222222222,
              "#7201a8"
             ],
             [
              0.3333333333333333,
              "#9c179e"
             ],
             [
              0.4444444444444444,
              "#bd3786"
             ],
             [
              0.5555555555555556,
              "#d8576b"
             ],
             [
              0.6666666666666666,
              "#ed7953"
             ],
             [
              0.7777777777777778,
              "#fb9f3a"
             ],
             [
              0.8888888888888888,
              "#fdca26"
             ],
             [
              1,
              "#f0f921"
             ]
            ],
            "type": "heatmap"
           }
          ],
          "histogram": [
           {
            "marker": {
             "pattern": {
              "fillmode": "overlay",
              "size": 10,
              "solidity": 0.2
             }
            },
            "type": "histogram"
           }
          ],
          "histogram2d": [
           {
            "colorbar": {
             "outlinewidth": 0,
             "ticks": ""
            },
            "colorscale": [
             [
              0,
              "#0d0887"
             ],
             [
              0.1111111111111111,
              "#46039f"
             ],
             [
              0.2222222222222222,
              "#7201a8"
             ],
             [
              0.3333333333333333,
              "#9c179e"
             ],
             [
              0.4444444444444444,
              "#bd3786"
             ],
             [
              0.5555555555555556,
              "#d8576b"
             ],
             [
              0.6666666666666666,
              "#ed7953"
             ],
             [
              0.7777777777777778,
              "#fb9f3a"
             ],
             [
              0.8888888888888888,
              "#fdca26"
             ],
             [
              1,
              "#f0f921"
             ]
            ],
            "type": "histogram2d"
           }
          ],
          "histogram2dcontour": [
           {
            "colorbar": {
             "outlinewidth": 0,
             "ticks": ""
            },
            "colorscale": [
             [
              0,
              "#0d0887"
             ],
             [
              0.1111111111111111,
              "#46039f"
             ],
             [
              0.2222222222222222,
              "#7201a8"
             ],
             [
              0.3333333333333333,
              "#9c179e"
             ],
             [
              0.4444444444444444,
              "#bd3786"
             ],
             [
              0.5555555555555556,
              "#d8576b"
             ],
             [
              0.6666666666666666,
              "#ed7953"
             ],
             [
              0.7777777777777778,
              "#fb9f3a"
             ],
             [
              0.8888888888888888,
              "#fdca26"
             ],
             [
              1,
              "#f0f921"
             ]
            ],
            "type": "histogram2dcontour"
           }
          ],
          "mesh3d": [
           {
            "colorbar": {
             "outlinewidth": 0,
             "ticks": ""
            },
            "type": "mesh3d"
           }
          ],
          "parcoords": [
           {
            "line": {
             "colorbar": {
              "outlinewidth": 0,
              "ticks": ""
             }
            },
            "type": "parcoords"
           }
          ],
          "pie": [
           {
            "automargin": true,
            "type": "pie"
           }
          ],
          "scatter": [
           {
            "fillpattern": {
             "fillmode": "overlay",
             "size": 10,
             "solidity": 0.2
            },
            "type": "scatter"
           }
          ],
          "scatter3d": [
           {
            "line": {
             "colorbar": {
              "outlinewidth": 0,
              "ticks": ""
             }
            },
            "marker": {
             "colorbar": {
              "outlinewidth": 0,
              "ticks": ""
             }
            },
            "type": "scatter3d"
           }
          ],
          "scattercarpet": [
           {
            "marker": {
             "colorbar": {
              "outlinewidth": 0,
              "ticks": ""
             }
            },
            "type": "scattercarpet"
           }
          ],
          "scattergeo": [
           {
            "marker": {
             "colorbar": {
              "outlinewidth": 0,
              "ticks": ""
             }
            },
            "type": "scattergeo"
           }
          ],
          "scattergl": [
           {
            "marker": {
             "colorbar": {
              "outlinewidth": 0,
              "ticks": ""
             }
            },
            "type": "scattergl"
           }
          ],
          "scattermap": [
           {
            "marker": {
             "colorbar": {
              "outlinewidth": 0,
              "ticks": ""
             }
            },
            "type": "scattermap"
           }
          ],
          "scattermapbox": [
           {
            "marker": {
             "colorbar": {
              "outlinewidth": 0,
              "ticks": ""
             }
            },
            "type": "scattermapbox"
           }
          ],
          "scatterpolar": [
           {
            "marker": {
             "colorbar": {
              "outlinewidth": 0,
              "ticks": ""
             }
            },
            "type": "scatterpolar"
           }
          ],
          "scatterpolargl": [
           {
            "marker": {
             "colorbar": {
              "outlinewidth": 0,
              "ticks": ""
             }
            },
            "type": "scatterpolargl"
           }
          ],
          "scatterternary": [
           {
            "marker": {
             "colorbar": {
              "outlinewidth": 0,
              "ticks": ""
             }
            },
            "type": "scatterternary"
           }
          ],
          "surface": [
           {
            "colorbar": {
             "outlinewidth": 0,
             "ticks": ""
            },
            "colorscale": [
             [
              0,
              "#0d0887"
             ],
             [
              0.1111111111111111,
              "#46039f"
             ],
             [
              0.2222222222222222,
              "#7201a8"
             ],
             [
              0.3333333333333333,
              "#9c179e"
             ],
             [
              0.4444444444444444,
              "#bd3786"
             ],
             [
              0.5555555555555556,
              "#d8576b"
             ],
             [
              0.6666666666666666,
              "#ed7953"
             ],
             [
              0.7777777777777778,
              "#fb9f3a"
             ],
             [
              0.8888888888888888,
              "#fdca26"
             ],
             [
              1,
              "#f0f921"
             ]
            ],
            "type": "surface"
           }
          ],
          "table": [
           {
            "cells": {
             "fill": {
              "color": "#EBF0F8"
             },
             "line": {
              "color": "white"
             }
            },
            "header": {
             "fill": {
              "color": "#C8D4E3"
             },
             "line": {
              "color": "white"
             }
            },
            "type": "table"
           }
          ]
         },
         "layout": {
          "annotationdefaults": {
           "arrowcolor": "#2a3f5f",
           "arrowhead": 0,
           "arrowwidth": 1
          },
          "autotypenumbers": "strict",
          "coloraxis": {
           "colorbar": {
            "outlinewidth": 0,
            "ticks": ""
           }
          },
          "colorscale": {
           "diverging": [
            [
             0,
             "#8e0152"
            ],
            [
             0.1,
             "#c51b7d"
            ],
            [
             0.2,
             "#de77ae"
            ],
            [
             0.3,
             "#f1b6da"
            ],
            [
             0.4,
             "#fde0ef"
            ],
            [
             0.5,
             "#f7f7f7"
            ],
            [
             0.6,
             "#e6f5d0"
            ],
            [
             0.7,
             "#b8e186"
            ],
            [
             0.8,
             "#7fbc41"
            ],
            [
             0.9,
             "#4d9221"
            ],
            [
             1,
             "#276419"
            ]
           ],
           "sequential": [
            [
             0,
             "#0d0887"
            ],
            [
             0.1111111111111111,
             "#46039f"
            ],
            [
             0.2222222222222222,
             "#7201a8"
            ],
            [
             0.3333333333333333,
             "#9c179e"
            ],
            [
             0.4444444444444444,
             "#bd3786"
            ],
            [
             0.5555555555555556,
             "#d8576b"
            ],
            [
             0.6666666666666666,
             "#ed7953"
            ],
            [
             0.7777777777777778,
             "#fb9f3a"
            ],
            [
             0.8888888888888888,
             "#fdca26"
            ],
            [
             1,
             "#f0f921"
            ]
           ],
           "sequentialminus": [
            [
             0,
             "#0d0887"
            ],
            [
             0.1111111111111111,
             "#46039f"
            ],
            [
             0.2222222222222222,
             "#7201a8"
            ],
            [
             0.3333333333333333,
             "#9c179e"
            ],
            [
             0.4444444444444444,
             "#bd3786"
            ],
            [
             0.5555555555555556,
             "#d8576b"
            ],
            [
             0.6666666666666666,
             "#ed7953"
            ],
            [
             0.7777777777777778,
             "#fb9f3a"
            ],
            [
             0.8888888888888888,
             "#fdca26"
            ],
            [
             1,
             "#f0f921"
            ]
           ]
          },
          "colorway": [
           "#636efa",
           "#EF553B",
           "#00cc96",
           "#ab63fa",
           "#FFA15A",
           "#19d3f3",
           "#FF6692",
           "#B6E880",
           "#FF97FF",
           "#FECB52"
          ],
          "font": {
           "color": "#2a3f5f"
          },
          "geo": {
           "bgcolor": "white",
           "lakecolor": "white",
           "landcolor": "#E5ECF6",
           "showlakes": true,
           "showland": true,
           "subunitcolor": "white"
          },
          "hoverlabel": {
           "align": "left"
          },
          "hovermode": "closest",
          "mapbox": {
           "style": "light"
          },
          "paper_bgcolor": "white",
          "plot_bgcolor": "#E5ECF6",
          "polar": {
           "angularaxis": {
            "gridcolor": "white",
            "linecolor": "white",
            "ticks": ""
           },
           "bgcolor": "#E5ECF6",
           "radialaxis": {
            "gridcolor": "white",
            "linecolor": "white",
            "ticks": ""
           }
          },
          "scene": {
           "xaxis": {
            "backgroundcolor": "#E5ECF6",
            "gridcolor": "white",
            "gridwidth": 2,
            "linecolor": "white",
            "showbackground": true,
            "ticks": "",
            "zerolinecolor": "white"
           },
           "yaxis": {
            "backgroundcolor": "#E5ECF6",
            "gridcolor": "white",
            "gridwidth": 2,
            "linecolor": "white",
            "showbackground": true,
            "ticks": "",
            "zerolinecolor": "white"
           },
           "zaxis": {
            "backgroundcolor": "#E5ECF6",
            "gridcolor": "white",
            "gridwidth": 2,
            "linecolor": "white",
            "showbackground": true,
            "ticks": "",
            "zerolinecolor": "white"
           }
          },
          "shapedefaults": {
           "line": {
            "color": "#2a3f5f"
           }
          },
          "ternary": {
           "aaxis": {
            "gridcolor": "white",
            "linecolor": "white",
            "ticks": ""
           },
           "baxis": {
            "gridcolor": "white",
            "linecolor": "white",
            "ticks": ""
           },
           "bgcolor": "#E5ECF6",
           "caxis": {
            "gridcolor": "white",
            "linecolor": "white",
            "ticks": ""
           }
          },
          "title": {
           "x": 0.05
          },
          "xaxis": {
           "automargin": true,
           "gridcolor": "white",
           "linecolor": "white",
           "ticks": "",
           "title": {
            "standoff": 15
           },
           "zerolinecolor": "white",
           "zerolinewidth": 2
          },
          "yaxis": {
           "automargin": true,
           "gridcolor": "white",
           "linecolor": "white",
           "ticks": "",
           "title": {
            "standoff": 15
           },
           "zerolinecolor": "white",
           "zerolinewidth": 2
          }
         }
        },
        "title": {
         "text": "Boxplot of age"
        },
        "xaxis": {
         "anchor": "y",
         "domain": [
          0,
          1
         ]
        },
        "yaxis": {
         "anchor": "x",
         "domain": [
          0,
          1
         ],
         "title": {
          "text": "age"
         }
        }
       }
      },
      "image/png": "[encoded data removed]"
     },
     "metadata": {},
     "output_type": "display_data"
    },
    {
     "data": {
      "application/vnd.plotly.v1+json": {
       "config": {
        "plotlyServerURL": "https://plot.ly"
       },
       "data": [
        {
         "alignmentgroup": "True",
         "hovertemplate": "monthly_income=%{y}<extra></extra>",
         "legendgroup": "",
         "marker": {
          "color": "#636efa"
         },
         "name": "",
         "notched": false,
         "offsetgroup": "",
         "orientation": "v",
         "showlegend": false,
         "type": "box",
         "x0": " ",
         "xaxis": "x",
         "y": {
          "bdata": "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",
          "dtype": "i4"
         },
         "y0": " ",
         "yaxis": "y"
        }
       ],
       "layout": {
        "boxmode": "group",
        "legend": {
         "tracegroupgap": 0
        },
        "template": {
         "data": {
          "bar": [
           {
            "error_x": {
             "color": "#2a3f5f"
            },
            "error_y": {
             "color": "#2a3f5f"
            },
            "marker": {
             "line": {
              "color": "#E5ECF6",
              "width": 0.5
             },
             "pattern": {
              "fillmode": "overlay",
              "size": 10,
              "solidity": 0.2
             }
            },
            "type": "bar"
           }
          ],
          "barpolar": [
           {
            "marker": {
             "line": {
              "color": "#E5ECF6",
              "width": 0.5
             },
             "pattern": {
              "fillmode": "overlay",
              "size": 10,
              "solidity": 0.2
             }
            },
            "type": "barpolar"
           }
          ],
          "carpet": [
           {
            "aaxis": {
             "endlinecolor": "#2a3f5f",
             "gridcolor": "white",
             "linecolor": "white",
             "minorgridcolor": "white",
             "startlinecolor": "#2a3f5f"
            },
            "baxis": {
             "endlinecolor": "#2a3f5f",
             "gridcolor": "white",
             "linecolor": "white",
             "minorgridcolor": "white",
             "startlinecolor": "#2a3f5f"
            },
            "type": "carpet"
           }
          ],
          "choropleth": [
           {
            "colorbar": {
             "outlinewidth": 0,
             "ticks": ""
            },
            "type": "choropleth"
           }
          ],
          "contour": [
           {
            "colorbar": {
             "outlinewidth": 0,
             "ticks": ""
            },
            "colorscale": [
             [
              0,
              "#0d0887"
             ],
             [
              0.1111111111111111,
              "#46039f"
             ],
             [
              0.2222222222222222,
              "#7201a8"
             ],
             [
              0.3333333333333333,
              "#9c179e"
             ],
             [
              0.4444444444444444,
              "#bd3786"
             ],
             [
              0.5555555555555556,
              "#d8576b"
             ],
             [
              0.6666666666666666,
              "#ed7953"
             ],
             [
              0.7777777777777778,
              "#fb9f3a"
             ],
             [
              0.8888888888888888,
              "#fdca26"
             ],
             [
              1,
              "#f0f921"
             ]
            ],
            "type": "contour"
           }
          ],
          "contourcarpet": [
           {
            "colorbar": {
             "outlinewidth": 0,
             "ticks": ""
            },
            "type": "contourcarpet"
           }
          ],
          "heatmap": [
           {
            "colorbar": {
             "outlinewidth": 0,
             "ticks": ""
            },
            "colorscale": [
             [
              0,
              "#0d0887"
             ],
             [
              0.1111111111111111,
              "#46039f"
             ],
             [
              0.2222222222222222,
              "#7201a8"
             ],
             [
              0.3333333333333333,
              "#9c179e"
             ],
             [
              0.4444444444444444,
              "#bd3786"
             ],
             [
              0.5555555555555556,
              "#d8576b"
             ],
             [
              0.6666666666666666,
              "#ed7953"
             ],
             [
              0.7777777777777778,
              "#fb9f3a"
             ],
             [
              0.8888888888888888,
              "#fdca26"
             ],
             [
              1,
              "#f0f921"
             ]
            ],
            "type": "heatmap"
           }
          ],
          "histogram": [
           {
            "marker": {
             "pattern": {
              "fillmode": "overlay",
              "size": 10,
              "solidity": 0.2
             }
            },
            "type": "histogram"
           }
          ],
          "histogram2d": [
           {
            "colorbar": {
             "outlinewidth": 0,
             "ticks": ""
            },
            "colorscale": [
             [
              0,
              "#0d0887"
             ],
             [
              0.1111111111111111,
              "#46039f"
             ],
             [
              0.2222222222222222,
              "#7201a8"
             ],
             [
              0.3333333333333333,
              "#9c179e"
             ],
             [
              0.4444444444444444,
              "#bd3786"
             ],
             [
              0.5555555555555556,
              "#d8576b"
             ],
             [
              0.6666666666666666,
              "#ed7953"
             ],
             [
              0.7777777777777778,
              "#fb9f3a"
             ],
             [
              0.8888888888888888,
              "#fdca26"
             ],
             [
              1,
              "#f0f921"
             ]
            ],
            "type": "histogram2d"
           }
          ],
          "histogram2dcontour": [
           {
            "colorbar": {
             "outlinewidth": 0,
             "ticks": ""
            },
            "colorscale": [
             [
              0,
              "#0d0887"
             ],
             [
              0.1111111111111111,
              "#46039f"
             ],
             [
              0.2222222222222222,
              "#7201a8"
             ],
             [
              0.3333333333333333,
              "#9c179e"
             ],
             [
              0.4444444444444444,
              "#bd3786"
             ],
             [
              0.5555555555555556,
              "#d8576b"
             ],
             [
              0.6666666666666666,
              "#ed7953"
             ],
             [
              0.7777777777777778,
              "#fb9f3a"
             ],
             [
              0.8888888888888888,
              "#fdca26"
             ],
             [
              1,
              "#f0f921"
             ]
            ],
            "type": "histogram2dcontour"
           }
          ],
          "mesh3d": [
           {
            "colorbar": {
             "outlinewidth": 0,
             "ticks": ""
            },
            "type": "mesh3d"
           }
          ],
          "parcoords": [
           {
            "line": {
             "colorbar": {
              "outlinewidth": 0,
              "ticks": ""
             }
            },
            "type": "parcoords"
           }
          ],
          "pie": [
           {
            "automargin": true,
            "type": "pie"
           }
          ],
          "scatter": [
           {
            "fillpattern": {
             "fillmode": "overlay",
             "size": 10,
             "solidity": 0.2
            },
            "type": "scatter"
           }
          ],
          "scatter3d": [
           {
            "line": {
             "colorbar": {
              "outlinewidth": 0,
              "ticks": ""
             }
            },
            "marker": {
             "colorbar": {
              "outlinewidth": 0,
              "ticks": ""
             }
            },
            "type": "scatter3d"
           }
          ],
          "scattercarpet": [
           {
            "marker": {
             "colorbar": {
              "outlinewidth": 0,
              "ticks": ""
             }
            },
            "type": "scattercarpet"
           }
          ],
          "scattergeo": [
           {
            "marker": {
             "colorbar": {
              "outlinewidth": 0,
              "ticks": ""
             }
            },
            "type": "scattergeo"
           }
          ],
          "scattergl": [
           {
            "marker": {
             "colorbar": {
              "outlinewidth": 0,
              "ticks": ""
             }
            },
            "type": "scattergl"
           }
          ],
          "scattermap": [
           {
            "marker": {
             "colorbar": {
              "outlinewidth": 0,
              "ticks": ""
             }
            },
            "type": "scattermap"
           }
          ],
          "scattermapbox": [
           {
            "marker": {
             "colorbar": {
              "outlinewidth": 0,
              "ticks": ""
             }
            },
            "type": "scattermapbox"
           }
          ],
          "scatterpolar": [
           {
            "marker": {
             "colorbar": {
              "outlinewidth": 0,
              "ticks": ""
             }
            },
            "type": "scatterpolar"
           }
          ],
          "scatterpolargl": [
           {
            "marker": {
             "colorbar": {
              "outlinewidth": 0,
              "ticks": ""
             }
            },
            "type": "scatterpolargl"
           }
          ],
          "scatterternary": [
           {
            "marker": {
             "colorbar": {
              "outlinewidth": 0,
              "ticks": ""
             }
            },
            "type": "scatterternary"
           }
          ],
          "surface": [
           {
            "colorbar": {
             "outlinewidth": 0,
             "ticks": ""
            },
            "colorscale": [
             [
              0,
              "#0d0887"
             ],
             [
              0.1111111111111111,
              "#46039f"
             ],
             [
              0.2222222222222222,
              "#7201a8"
             ],
             [
              0.3333333333333333,
              "#9c179e"
             ],
             [
              0.4444444444444444,
              "#bd3786"
             ],
             [
              0.5555555555555556,
              "#d8576b"
             ],
             [
              0.6666666666666666,
              "#ed7953"
             ],
             [
              0.7777777777777778,
              "#fb9f3a"
             ],
             [
              0.8888888888888888,
              "#fdca26"
             ],
             [
              1,
              "#f0f921"
             ]
            ],
            "type": "surface"
           }
          ],
          "table": [
           {
            "cells": {
             "fill": {
              "color": "#EBF0F8"
             },
             "line": {
              "color": "white"
             }
            },
            "header": {
             "fill": {
              "color": "#C8D4E3"
             },
             "line": {
              "color": "white"
             }
            },
            "type": "table"
           }
          ]
         },
         "layout": {
          "annotationdefaults": {
           "arrowcolor": "#2a3f5f",
           "arrowhead": 0,
           "arrowwidth": 1
          },
          "autotypenumbers": "strict",
          "coloraxis": {
           "colorbar": {
            "outlinewidth": 0,
            "ticks": ""
           }
          },
          "colorscale": {
           "diverging": [
            [
             0,
             "#8e0152"
            ],
            [
             0.1,
             "#c51b7d"
            ],
            [
             0.2,
             "#de77ae"
            ],
            [
             0.3,
             "#f1b6da"
            ],
            [
             0.4,
             "#fde0ef"
            ],
            [
             0.5,
             "#f7f7f7"
            ],
            [
             0.6,
             "#e6f5d0"
            ],
            [
             0.7,
             "#b8e186"
            ],
            [
             0.8,
             "#7fbc41"
            ],
            [
             0.9,
             "#4d9221"
            ],
            [
             1,
             "#276419"
            ]
           ],
           "sequential": [
            [
             0,
             "#0d0887"
            ],
            [
             0.1111111111111111,
             "#46039f"
            ],
            [
             0.2222222222222222,
             "#7201a8"
            ],
            [
             0.3333333333333333,
             "#9c179e"
            ],
            [
             0.4444444444444444,
             "#bd3786"
            ],
            [
             0.5555555555555556,
             "#d8576b"
            ],
            [
             0.6666666666666666,
             "#ed7953"
            ],
            [
             0.7777777777777778,
             "#fb9f3a"
            ],
            [
             0.8888888888888888,
             "#fdca26"
            ],
            [
             1,
             "#f0f921"
            ]
           ],
           "sequentialminus": [
            [
             0,
             "#0d0887"
            ],
            [
             0.1111111111111111,
             "#46039f"
            ],
            [
             0.2222222222222222,
             "#7201a8"
            ],
            [
             0.3333333333333333,
             "#9c179e"
            ],
            [
             0.4444444444444444,
             "#bd3786"
            ],
            [
             0.5555555555555556,
             "#d8576b"
            ],
            [
             0.6666666666666666,
             "#ed7953"
            ],
            [
             0.7777777777777778,
             "#fb9f3a"
            ],
            [
             0.8888888888888888,
             "#fdca26"
            ],
            [
             1,
             "#f0f921"
            ]
           ]
          },
          "colorway": [
           "#636efa",
           "#EF553B",
           "#00cc96",
           "#ab63fa",
           "#FFA15A",
           "#19d3f3",
           "#FF6692",
           "#B6E880",
           "#FF97FF",
           "#FECB52"
          ],
          "font": {
           "color": "#2a3f5f"
          },
          "geo": {
           "bgcolor": "white",
           "lakecolor": "white",
           "landcolor": "#E5ECF6",
           "showlakes": true,
           "showland": true,
           "subunitcolor": "white"
          },
          "hoverlabel": {
           "align": "left"
          },
          "hovermode": "closest",
          "mapbox": {
           "style": "light"
          },
          "paper_bgcolor": "white",
          "plot_bgcolor": "#E5ECF6",
          "polar": {
           "angularaxis": {
            "gridcolor": "white",
            "linecolor": "white",
            "ticks": ""
           },
           "bgcolor": "#E5ECF6",
           "radialaxis": {
            "gridcolor": "white",
            "linecolor": "white",
            "ticks": ""
           }
          },
          "scene": {
           "xaxis": {
            "backgroundcolor": "#E5ECF6",
            "gridcolor": "white",
            "gridwidth": 2,
            "linecolor": "white",
            "showbackground": true,
            "ticks": "",
            "zerolinecolor": "white"
           },
           "yaxis": {
            "backgroundcolor": "#E5ECF6",
            "gridcolor": "white",
            "gridwidth": 2,
            "linecolor": "white",
            "showbackground": true,
            "ticks": "",
            "zerolinecolor": "white"
           },
           "zaxis": {
            "backgroundcolor": "#E5ECF6",
            "gridcolor": "white",
            "gridwidth": 2,
            "linecolor": "white",
            "showbackground": true,
            "ticks": "",
            "zerolinecolor": "white"
           }
          },
          "shapedefaults": {
           "line": {
            "color": "#2a3f5f"
           }
          },
          "ternary": {
           "aaxis": {
            "gridcolor": "white",
            "linecolor": "white",
            "ticks": ""
           },
           "baxis": {
            "gridcolor": "white",
            "linecolor": "white",
            "ticks": ""
           },
           "bgcolor": "#E5ECF6",
           "caxis": {
            "gridcolor": "white",
            "linecolor": "white",
            "ticks": ""
           }
          },
          "title": {
           "x": 0.05
          },
          "xaxis": {
           "automargin": true,
           "gridcolor": "white",
           "linecolor": "white",
           "ticks": "",
           "title": {
            "standoff": 15
           },
           "zerolinecolor": "white",
           "zerolinewidth": 2
          },
          "yaxis": {
           "automargin": true,
           "gridcolor": "white",
           "linecolor": "white",
           "ticks": "",
           "title": {
            "standoff": 15
           },
           "zerolinecolor": "white",
           "zerolinewidth": 2
          }
         }
        },
        "title": {
         "text": "Boxplot of monthly_income"
        },
        "xaxis": {
         "anchor": "y",
         "domain": [
          0,
          1
         ]
        },
        "yaxis": {
         "anchor": "x",
         "domain": [
          0,
          1
         ],
         "title": {
          "text": "monthly_income"
         }
        }
       }
      },
      "image/png": "[encoded data removed]"
     },
     "metadata": {},
     "output_type": "display_data"
    },
    {
     "data": {
      "application/vnd.plotly.v1+json": {
       "config": {
        "plotlyServerURL": "https://plot.ly"
       },
       "data": [
        {
         "alignmentgroup": "True",
         "hovertemplate": "loan_amount=%{y}<extra></extra>",
         "legendgroup": "",
         "marker": {
          "color": "#636efa"
         },
         "name": "",
         "notched": false,
         "offsetgroup": "",
         "orientation": "v",
         "showlegend": false,
         "type": "box",
         "x0": " ",
         "xaxis": "x",
         "y": {
          "bdata": "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",
          "dtype": "i4"
         },
         "y0": " ",
         "yaxis": "y"
        }
       ],
       "layout": {
        "boxmode": "group",
        "legend": {
         "tracegroupgap": 0
        },
        "template": {
         "data": {
          "bar": [
           {
            "error_x": {
             "color": "#2a3f5f"
            },
            "error_y": {
             "color": "#2a3f5f"
            },
            "marker": {
             "line": {
              "color": "#E5ECF6",
              "width": 0.5
             },
             "pattern": {
              "fillmode": "overlay",
              "size": 10,
              "solidity": 0.2
             }
            },
            "type": "bar"
           }
          ],
          "barpolar": [
           {
            "marker": {
             "line": {
              "color": "#E5ECF6",
              "width": 0.5
             },
             "pattern": {
              "fillmode": "overlay",
              "size": 10,
              "solidity": 0.2
             }
            },
            "type": "barpolar"
           }
          ],
          "carpet": [
           {
            "aaxis": {
             "endlinecolor": "#2a3f5f",
             "gridcolor": "white",
             "linecolor": "white",
             "minorgridcolor": "white",
             "startlinecolor": "#2a3f5f"
            },
            "baxis": {
             "endlinecolor": "#2a3f5f",
             "gridcolor": "white",
             "linecolor": "white",
             "minorgridcolor": "white",
             "startlinecolor": "#2a3f5f"
            },
            "type": "carpet"
           }
          ],
          "choropleth": [
           {
            "colorbar": {
             "outlinewidth": 0,
             "ticks": ""
            },
            "type": "choropleth"
           }
          ],
          "contour": [
           {
            "colorbar": {
             "outlinewidth": 0,
             "ticks": ""
            },
            "colorscale": [
             [
              0,
              "#0d0887"
             ],
             [
              0.1111111111111111,
              "#46039f"
             ],
             [
              0.2222222222222222,
              "#7201a8"
             ],
             [
              0.3333333333333333,
              "#9c179e"
             ],
             [
              0.4444444444444444,
              "#bd3786"
             ],
             [
              0.5555555555555556,
              "#d8576b"
             ],
             [
              0.6666666666666666,
              "#ed7953"
             ],
             [
              0.7777777777777778,
              "#fb9f3a"
             ],
             [
              0.8888888888888888,
              "#fdca26"
             ],
             [
              1,
              "#f0f921"
             ]
            ],
            "type": "contour"
           }
          ],
          "contourcarpet": [
           {
            "colorbar": {
             "outlinewidth": 0,
             "ticks": ""
            },
            "type": "contourcarpet"
           }
          ],
          "heatmap": [
           {
            "colorbar": {
             "outlinewidth": 0,
             "ticks": ""
            },
            "colorscale": [
             [
              0,
              "#0d0887"
             ],
             [
              0.1111111111111111,
              "#46039f"
             ],
             [
              0.2222222222222222,
              "#7201a8"
             ],
             [
              0.3333333333333333,
              "#9c179e"
             ],
             [
              0.4444444444444444,
              "#bd3786"
             ],
             [
              0.5555555555555556,
              "#d8576b"
             ],
             [
              0.6666666666666666,
              "#ed7953"
             ],
             [
              0.7777777777777778,
              "#fb9f3a"
             ],
             [
              0.8888888888888888,
              "#fdca26"
             ],
             [
              1,
              "#f0f921"
             ]
            ],
            "type": "heatmap"
           }
          ],
          "histogram": [
           {
            "marker": {
             "pattern": {
              "fillmode": "overlay",
              "size": 10,
              "solidity": 0.2
             }
            },
            "type": "histogram"
           }
          ],
          "histogram2d": [
           {
            "colorbar": {
             "outlinewidth": 0,
             "ticks": ""
            },
            "colorscale": [
             [
              0,
              "#0d0887"
             ],
             [
              0.1111111111111111,
              "#46039f"
             ],
             [
              0.2222222222222222,
              "#7201a8"
             ],
             [
              0.3333333333333333,
              "#9c179e"
             ],
             [
              0.4444444444444444,
              "#bd3786"
             ],
             [
              0.5555555555555556,
              "#d8576b"
             ],
             [
              0.6666666666666666,
              "#ed7953"
             ],
             [
              0.7777777777777778,
              "#fb9f3a"
             ],
             [
              0.8888888888888888,
              "#fdca26"
             ],
             [
              1,
              "#f0f921"
             ]
            ],
            "type": "histogram2d"
           }
          ],
          "histogram2dcontour": [
           {
            "colorbar": {
             "outlinewidth": 0,
             "ticks": ""
            },
            "colorscale": [
             [
              0,
              "#0d0887"
             ],
             [
              0.1111111111111111,
              "#46039f"
             ],
             [
              0.2222222222222222,
              "#7201a8"
             ],
             [
              0.3333333333333333,
              "#9c179e"
             ],
             [
              0.4444444444444444,
              "#bd3786"
             ],
             [
              0.5555555555555556,
              "#d8576b"
             ],
             [
              0.6666666666666666,
              "#ed7953"
             ],
             [
              0.7777777777777778,
              "#fb9f3a"
             ],
             [
              0.8888888888888888,
              "#fdca26"
             ],
             [
              1,
              "#f0f921"
             ]
            ],
            "type": "histogram2dcontour"
           }
          ],
          "mesh3d": [
           {
            "colorbar": {
             "outlinewidth": 0,
             "ticks": ""
            },
            "type": "mesh3d"
           }
          ],
          "parcoords": [
           {
            "line": {
             "colorbar": {
              "outlinewidth": 0,
              "ticks": ""
             }
            },
            "type": "parcoords"
           }
          ],
          "pie": [
           {
            "automargin": true,
            "type": "pie"
           }
          ],
          "scatter": [
           {
            "fillpattern": {
             "fillmode": "overlay",
             "size": 10,
             "solidity": 0.2
            },
            "type": "scatter"
           }
          ],
          "scatter3d": [
           {
            "line": {
             "colorbar": {
              "outlinewidth": 0,
              "ticks": ""
             }
            },
            "marker": {
             "colorbar": {
              "outlinewidth": 0,
              "ticks": ""
             }
            },
            "type": "scatter3d"
           }
          ],
          "scattercarpet": [
           {
            "marker": {
             "colorbar": {
              "outlinewidth": 0,
              "ticks": ""
             }
            },
            "type": "scattercarpet"
           }
          ],
          "scattergeo": [
           {
            "marker": {
             "colorbar": {
              "outlinewidth": 0,
              "ticks": ""
             }
            },
            "type": "scattergeo"
           }
          ],
          "scattergl": [
           {
            "marker": {
             "colorbar": {
              "outlinewidth": 0,
              "ticks": ""
             }
            },
            "type": "scattergl"
           }
          ],
          "scattermap": [
           {
            "marker": {
             "colorbar": {
              "outlinewidth": 0,
              "ticks": ""
             }
            },
            "type": "scattermap"
           }
          ],
          "scattermapbox": [
           {
            "marker": {
             "colorbar": {
              "outlinewidth": 0,
              "ticks": ""
             }
            },
            "type": "scattermapbox"
           }
          ],
          "scatterpolar": [
           {
            "marker": {
             "colorbar": {
              "outlinewidth": 0,
              "ticks": ""
             }
            },
            "type": "scatterpolar"
           }
          ],
          "scatterpolargl": [
           {
            "marker": {
             "colorbar": {
              "outlinewidth": 0,
              "ticks": ""
             }
            },
            "type": "scatterpolargl"
           }
          ],
          "scatterternary": [
           {
            "marker": {
             "colorbar": {
              "outlinewidth": 0,
              "ticks": ""
             }
            },
            "type": "scatterternary"
           }
          ],
          "surface": [
           {
            "colorbar": {
             "outlinewidth": 0,
             "ticks": ""
            },
            "colorscale": [
             [
              0,
              "#0d0887"
             ],
             [
              0.1111111111111111,
              "#46039f"
             ],
             [
              0.2222222222222222,
              "#7201a8"
             ],
             [
              0.3333333333333333,
              "#9c179e"
             ],
             [
              0.4444444444444444,
              "#bd3786"
             ],
             [
              0.5555555555555556,
              "#d8576b"
             ],
             [
              0.6666666666666666,
              "#ed7953"
             ],
             [
              0.7777777777777778,
              "#fb9f3a"
             ],
             [
              0.8888888888888888,
              "#fdca26"
             ],
             [
              1,
              "#f0f921"
             ]
            ],
            "type": "surface"
           }
          ],
          "table": [
           {
            "cells": {
             "fill": {
              "color": "#EBF0F8"
             },
             "line": {
              "color": "white"
             }
            },
            "header": {
             "fill": {
              "color": "#C8D4E3"
             },
             "line": {
              "color": "white"
             }
            },
            "type": "table"
           }
          ]
         },
         "layout": {
          "annotationdefaults": {
           "arrowcolor": "#2a3f5f",
           "arrowhead": 0,
           "arrowwidth": 1
          },
          "autotypenumbers": "strict",
          "coloraxis": {
           "colorbar": {
            "outlinewidth": 0,
            "ticks": ""
           }
          },
          "colorscale": {
           "diverging": [
            [
             0,
             "#8e0152"
            ],
            [
             0.1,
             "#c51b7d"
            ],
            [
             0.2,
             "#de77ae"
            ],
            [
             0.3,
             "#f1b6da"
            ],
            [
             0.4,
             "#fde0ef"
            ],
            [
             0.5,
             "#f7f7f7"
            ],
            [
             0.6,
             "#e6f5d0"
            ],
            [
             0.7,
             "#b8e186"
            ],
            [
             0.8,
             "#7fbc41"
            ],
            [
             0.9,
             "#4d9221"
            ],
            [
             1,
             "#276419"
            ]
           ],
           "sequential": [
            [
             0,
             "#0d0887"
            ],
            [
             0.1111111111111111,
             "#46039f"
            ],
            [
             0.2222222222222222,
             "#7201a8"
            ],
            [
             0.3333333333333333,
             "#9c179e"
            ],
            [
             0.4444444444444444,
             "#bd3786"
            ],
            [
             0.5555555555555556,
             "#d8576b"
            ],
            [
             0.6666666666666666,
             "#ed7953"
            ],
            [
             0.7777777777777778,
             "#fb9f3a"
            ],
            [
             0.8888888888888888,
             "#fdca26"
            ],
            [
             1,
             "#f0f921"
            ]
           ],
           "sequentialminus": [
            [
             0,
             "#0d0887"
            ],
            [
             0.1111111111111111,
             "#46039f"
            ],
            [
             0.2222222222222222,
             "#7201a8"
            ],
            [
             0.3333333333333333,
             "#9c179e"
            ],
            [
             0.4444444444444444,
             "#bd3786"
            ],
            [
             0.5555555555555556,
             "#d8576b"
            ],
            [
             0.6666666666666666,
             "#ed7953"
            ],
            [
             0.7777777777777778,
             "#fb9f3a"
            ],
            [
             0.8888888888888888,
             "#fdca26"
            ],
            [
             1,
             "#f0f921"
            ]
           ]
          },
          "colorway": [
           "#636efa",
           "#EF553B",
           "#00cc96",
           "#ab63fa",
           "#FFA15A",
           "#19d3f3",
           "#FF6692",
           "#B6E880",
           "#FF97FF",
           "#FECB52"
          ],
          "font": {
           "color": "#2a3f5f"
          },
          "geo": {
           "bgcolor": "white",
           "lakecolor": "white",
           "landcolor": "#E5ECF6",
           "showlakes": true,
           "showland": true,
           "subunitcolor": "white"
          },
          "hoverlabel": {
           "align": "left"
          },
          "hovermode": "closest",
          "mapbox": {
           "style": "light"
          },
          "paper_bgcolor": "white",
          "plot_bgcolor": "#E5ECF6",
          "polar": {
           "angularaxis": {
            "gridcolor": "white",
            "linecolor": "white",
            "ticks": ""
           },
           "bgcolor": "#E5ECF6",
           "radialaxis": {
            "gridcolor": "white",
            "linecolor": "white",
            "ticks": ""
           }
          },
          "scene": {
           "xaxis": {
            "backgroundcolor": "#E5ECF6",
            "gridcolor": "white",
            "gridwidth": 2,
            "linecolor": "white",
            "showbackground": true,
            "ticks": "",
            "zerolinecolor": "white"
           },
           "yaxis": {
            "backgroundcolor": "#E5ECF6",
            "gridcolor": "white",
            "gridwidth": 2,
            "linecolor": "white",
            "showbackground": true,
            "ticks": "",
            "zerolinecolor": "white"
           },
           "zaxis": {
            "backgroundcolor": "#E5ECF6",
            "gridcolor": "white",
            "gridwidth": 2,
            "linecolor": "white",
            "showbackground": true,
            "ticks": "",
            "zerolinecolor": "white"
           }
          },
          "shapedefaults": {
           "line": {
            "color": "#2a3f5f"
           }
          },
          "ternary": {
           "aaxis": {
            "gridcolor": "white",
            "linecolor": "white",
            "ticks": ""
           },
           "baxis": {
            "gridcolor": "white",
            "linecolor": "white",
            "ticks": ""
           },
           "bgcolor": "#E5ECF6",
           "caxis": {
            "gridcolor": "white",
            "linecolor": "white",
            "ticks": ""
           }
          },
          "title": {
           "x": 0.05
          },
          "xaxis": {
           "automargin": true,
           "gridcolor": "white",
           "linecolor": "white",
           "ticks": "",
           "title": {
            "standoff": 15
           },
           "zerolinecolor": "white",
           "zerolinewidth": 2
          },
          "yaxis": {
           "automargin": true,
           "gridcolor": "white",
           "linecolor": "white",
           "ticks": "",
           "title": {
            "standoff": 15
           },
           "zerolinecolor": "white",
           "zerolinewidth": 2
          }
         }
        },
        "title": {
         "text": "Boxplot of loan_amount"
        },
        "xaxis": {
         "anchor": "y",
         "domain": [
          0,
          1
         ]
        },
        "yaxis": {
         "anchor": "x",
         "domain": [
          0,
          1
         ],
         "title": {
          "text": "loan_amount"
         }
        }
       }
      },
      "image/png": "[encoded data removed]"
     },
     "metadata": {},
     "output_type": "display_data"
    },
    {
     "data": {
      "application/vnd.plotly.v1+json": {
       "config": {
        "plotlyServerURL": "https://plot.ly"
       },
       "data": [
        {
         "alignmentgroup": "True",
         "hovertemplate": "previous_defaults=%{y}<extra></extra>",
         "legendgroup": "",
         "marker": {
          "color": "#636efa"
         },
         "name": "",
         "notched": false,
         "offsetgroup": "",
         "orientation": "v",
         "showlegend": false,
         "type": "box",
         "x0": " ",
         "xaxis": "x",
         "y": {
          "bdata": "AAAAAAEBAQAAAAABAAEAAAAAAAAAAAAAAAAAAAEAAQAAAAAAAAAAAQAAAAAAAAAAAAAAAQAAAAEAAAEAAAABAAEAAQABAgAAAAAAAAAAAAEAAAAAAAABAAAAAAAAAAAAAQABAAAAAAAAAAAAAgAAAAEAAAAAAAAAAQAAAQAAAgAAAQAAAAEBAAEAAAEAAAAAAAAAAAIBAAABAAAAAAAAAAEAAAAAAAABAQABAQABAAABAAAAAAAAAAAAAAAAAAABAAAAAAAAAAAAAAAAAAAAAAEAAQAAAAIAAAAAAAAAAgAAAAAAAAAAAQEBAQEBAAAAAQABAAAAAAAAAAAAAQAAAAAAAAAAAAABAAAAAAAAAAAAAQABAAAAAAAAAAAAAQAAAAEAAQAAAAAAAAAAAAEAAAAAAAAAAAEAAQABAAAAAAAAAAAAAAAAAAIAAAAAAQAAAAAAAAAAAAABAAAAAQABAAABAQEAAAEBAAEBAAEAAAAAAAEAAAAAAAAAAAAAAAAAAAAAAAAAAAAAAAAAAAAAAAAAAAAAAAABAAAAAAAAAQAAAAAAAAAAAAABAAABAQABAAAAAAEAAAEAAAAAAAABAQAAAQAAAAAAAAAAAAAAAAAAAAEAAAABAAAAAAABAQAAAAAAAAAAAAECAAAAAAAAAAAAAAAAAAAAAAEAAAAAAQABAAAAAQABAAAAAQAAAAAAAAIAAAAAAQAAAAEAAAAAAAAAAAAAAAEAAAAAAAABAAECAQAAAAABAAAAAAEAAAABAQEAAAABAAAAAAAAAAAAAAICAAEAAgAAAAAAAAABAAAAAAABAAAAAAEAAgAAAAABAAAAAAEAAAABAAAAAAAAAAABAAAAAAABAAABAAABAQAAAQAAAAAAAQAAAAAAAAABAAEAAAEBAQABAAAAAAABAQAAAAEAAQAAAAABAAAAAAABAAAAAQAAAAIAAAAAAAAAAAEBAAAAAAAAAAABAQAAAAABAQEAAAAAAAACAwEAAAABAAAAAAABAAAAAAAAAAAAAAAAAAACAAAAAAABAAAAAgEAAAEAAAEAAAEAAAEAAAAAAAAAAgAAAAAAAAAAAAAAAAEAAAAAAgEAAAAAAAEAAAAAAAAAAAAAAAAAAAAAAAABAAABAAAAAAIAAAAAAAAAAAAAAAAAAAAAAAABAQACAAAAAAAAAQAAAAABAQAAAAAAAgAAAQEAAAAAAQAAAAAAAAAAAQAAAQAAAAEAAQAAAAABAAIAAAIAAAAAAAAAAQAAAAAAAAAAAAEAAAABAAEAAAAAAAABAAAAAAABAAAAAQEAAAEAAAABAAAAAAAAAAAAAAEBAAABAAAAAQEAAAAAAAAAAAEAAAAAAAAAAQABAAAAAQABAQABAAEBAAAAAAAAAAAAAAAAAAABAQEAAAAAAQAAAQACAAEBAQAAAQAAAAAAAAEAAAAAAQEAAAEAAAAAAAAAAAEAAAAAAAAAAAAAAAAAAAAAAAICAAAAAAAAAAAAAQAAAQAAAQEAAAAAAAAAAAAAAAAAAAAAAAABAAAAAQACAAAAAAABAgAAAAAAAQEAAAEBAAAAAAAAAAAAAAABAAAAAAAAAAAAAQACAAAAAAEAAAECAAAAAAABAgAAAQABAQAAAAAAAAAAAAAAAgAAAAABAAIAAAAAAAAAAAAAAAAAAAIAAQIAAAECAAAAAQABAAAAAAAAAQABAAAAAAAAAAAAAQAAAAAAAAAAAAEBAQAAAAAAAAAAAAAAAAAAAAABAAAAAAEAAAEAAAABAAABAAIBAAAAAAAAAAAAAAEAAAECAQABAAAAAQACAAEAAAAAAAABAAAAAAABAQAAAQACAQAAAAAAAAABAAAAAAAAAAAAAQABAAEAAAABAAACAQAAAAAAAAAAAQAAAAEAAAAAAAEAAAAAAQAAAAAAAQACAQAAAAEAAAEAAAABAAAAAAEAAQEBAAAAAAAAAAAAAAACAAABAAAAAAAAAAAAAAEAAAAAAAAAAQAAAAAAAAAAAQEAAAAAAAAAAAAAAAAAAAEAAAEBAAAAAAAAAAAAAQABAQAAAgAAAQEAAAEAAAAAAAABAAAAAQAAAAEAAAAAAQAAAAAAAQAAAAAAAAAAAAAAAQEAAAABAAABAQABAQEAAAAAAAAAAAAAAgAAAAAAAAAAAAEAAAAAAQAAAAAAAQAAAAAAAAABAAAAAwEAAAAAAAAAAAEBAAAAAAAAAQAAAAAAAAAAAAAAAQAAAAABAAEBAAAAAAEAAQEAAAAAAAAAAAAAAAABAQAAAgEAAAEAAAAAAQAAAAABAQAAAAABAQABAAAAAAEAAAEAAQAAAAAAAAAAAAABAAAAAAAAAAAAAAEAAAECAQAAAAAAAQAAAAABAAAAAAAAAQEBAAEBAAAAAAAAAAAAAAAAAAAAAQEAAAABAAAAAAABAAAAAAAAAAABAAABAAAAAAAAAAABAAAAAAAAAAEBAQABAAAAAQIAAQAAAAEAAAAAAAAAAAAAAAAAAAAAAAAAAAABAQAAAQAAAAAAAAAAAAABAAAAAAAAAAACAAAAAAAAAAABAAAAAQEAAAAAAQEBAgAAAAAAAAAAAAAAAAAAAAEAAAABAAAAAQEBAAEAAAAAAAEAAQAAAAAAAAACAAAAAAEAAAABAQABAAAAAAAAAAAAAAABAAAAAAAAAAAAAAAAAQABAAEAAAACAAAAAAEBAAEAAAABAAABAAABAAAAAAAAAAAAAAABAAAAAAAAAAAAAAAAAwEAAAAAAAAAAQAAAAAAAQAAAAAAAAEAAAABAAEAAAAAAAABAAAAAAEAAAEBAAAAAAAAAAAAAQAAAAAAAAEBAQEAAAAAAAEAAAEBAQAAAAAAAQAAAAAAAAAAAQABAAAAAAAAAAAAAAABAAAAAAEAAAABAAABAAABAQAAAQAAAAAAAAAAAAAAAAEAAAAAAQEAAQEAAAAAAAEAAAAAAAAAAAAAAAAAAQAAAAAAAAEBAAAAAAAAAAACAAAAAQEAAAAAAAABAAACAAAAAAEAAAAAAQAAAAAAAQAAAAAAAAAAAAAAAgEAAAAAAAIBAAAAAQABAAEAAAABAAIAAAIAAAABAAABAAEAAAAAAAABAQAAAAAAAAAAAAAAAAAAAAECAAABAAAAAAAAAAAAAAEAAQEAAAEAAAAAAAAAAAEBAQEAAAAAAAAAAAAAAAAAAAAAAAAAAQAAAAAAAQEAAAABAAAAAAAAAAAAAAAAAAEAAAAAAAAAAAACAAABAAAAAAABAQAAAAAAAAAAAAAAAAAAAAAAAAAAAAABAAAAAAABAAAAAAAAAQABAAAAAAAAAAAAAAEBAAEBAAAAAQIAAAAAAQABAAAAAAEAAAAAAAAAAQIAAQAAAAAAAAAAAQEBAAAAAAAAAAAAAAEAAAAAAQEAAAABAAAAAgAAAQEBAAEAAAABAAAAAQEAAAEAAQAAAAAAAAAAAAAAAQAAAAAAAAAAAAAAAAAAAAEAAAAAAAAAAQEBAAAAAAAAAAAAAAABAQABAAAAAAAAAQAAAAAAAAAAAAAAAAAAAAAAAAEBAAEBAQEAAAAAAQABAAAAAAEBAAAAAAABAAAAAAABAAABAAECAAABAAAAAAAAAAAAAQAAAAABAAAAAQAAAAEAAAAAAQEAAAAAAAECAAAAAAAAAAAAAAAAAQAAAAEAAAEAAAAAAAABAQIAAAAAAAAAAAAAAAAAAAAAAAAAAAAAAAABAAAAAAAAAAABAAEBAAAAAQEAAAEAAQAAAQABAAAAAAEBAAEBAgAAAAAAAAEAAgABAQAAAAAAAAACAAAAAQAAAAAAAQAAAAEAAAAAAAAAAAAAAAAAAAAAAgAAAAAAAAAAAAAAAQABAAAAAAAAAAAAAAABAQABAQAAAAAAAAAAAAAAAQEBAAAAAQAAAQEAAAAAAAAAAAAAAQACAAABAAEAAAAAAAEAAQAAAAAAAAAAAAAAAAAAAQAAAAAAAAABAAEAAAAAAAAAAAAAAAAAAAACAAAAAAAAAAAAAgABAAABAAAAAAAAAAAAAQAAAAAAAQAAAAABAAAAAAAAAAAAAAAAAAABAAAAAQEAAgAAAAAAAAEAAAABAAAAAAAAAAAAAAAAAAAAAAAAAQAAAAEAAAEAAAAAAAAAAAEAAAAAAAAAAAABAAAAAQIAAAAAAAAAAAAAAAAAAAAAAAAAAAABAAAAAAAAAAEAAAEAAAAAAAAAAAAAAAAAAAAAAAEAAAEAAQEBAAAAAAAAAAABAAAAAQACAQAAAQEAAQAAAQEAAAAAAAABAQAAAAEAAAAAAAAAAAABAAAAAAAAAQEAAQABAAABAQAAAAAAAAABAQAAAAAAAQEAAAAAAAABAAAAAQAAAQAAAAACAAAAAAAAAAAAAAABAAIAAAAAAAEAAAAAAAAAAAEAAAABAQAAAAAAAAEAAAAAAAEBAQABAAAAAAEAAAAAAAEAAAAAAAABAQAAAAEAAAAAAQACAAAAAQAAAAAAAAAAAAEAAAAAAAEBAAAAAAAAAAAAAgECAAEAAAAAAAAAAQAAAAAAAQABAAEAAAAAAAABAAABAAAAAAABAgAAAAEAAAAAAQABAAAAAgAAAAIAAAAAAAABAAEAAAABAAAAAAAAAQAAAAAAAAABAAABAAABAAAAAAAAAAACAAAAAAAAAAEBAAAAAQABAAEBAAEBAQAAAAABAAAAAQEAAAAAAAAAAAACAAEAAQAAAAAAAAAAAAAAAAECAAAAAQAAAAAAAQAAAAAAAAAAAAABAAEAAAEAAAEAAQAAAAAAAAAAAQAAAAAAAAAAAAEAAQAAAAIBAQABAAAAAAAAAAEAAAABAQABAAAAAAABAAABAAAAAAAAAQAAAAACAQEAAQAAAAABAAAAAAAAAAABAAAAAAEBAAIAAAABAQEAAAAAAAEAAAAAAAAAAAAAAQAAAAAAAAEAAAAAAQEAAAIAAAAAAAAAAAAAAAAAAAAAAAAAAAAAAAAAAAAAAAAAAAABAAEAAAABAAIAAAEBAAAAAAAAAQABAAEAAQEAAAAAAQABAAABAAAAAQAAAAABAAEAAQAAAAABAAAAAAAAAQAAAAAAAQABAAABAAAAAAAAAQAAAAAAAAEAAgABAgAAAQAAAAAAAQEAAAAAAAABAQAAAQAAAAAAAAABAAAAAQAAAAAAAAAAAAAAAAABAAIAAAAAAAABAAABAAAAAQAAAAAAAAAAAAABAQEAAAAAAAAAAQAAAAAAAAAAAQAAAQACAAAAAAAAAAAAAAAAAAABAAAAAAAAAAAAAQABAAEAAAAAAAAAAQEAAgABAAEAAAAAAQAAAAACAAAAAAABAQABAAAAAAAAAQAAAAAAAAAAAQAAAAAAAAAAAQAAAAAAAAAAAQAAAAEAAAEAAgAAAAEAAAAAAgECAAAAAQAAAQAAAAAAAAAAAAAAAAAAAAAAAAAAAAAAAAAAAQAAAAAAAAEAAQEAAAABAAAAAAAAAAAAAAAAAAEAAAAAAQIAAAABAAAAAAAAAQAAAgEAAQABAAAAAAAAAQIAAQAAAQABAQAAAAAAAAABAQAAAAABAAAAAAAAAAAAAQEAAQABAAEAAQAAAAABAAEAAAABAQAAAAAAAAAAAAABAQEAAQABAAABAAAAAAAAAAEAAQEAAQAAAAABAAAAAAAAAQABAAAAAAAAAAAAAAAAAQABAQAAAAAAAAACAQEBAAAAAQAAAQABAAAAAAABAQEAAAABAAAAAAEAAAEBAAAAAAAAAAEAAAABAAEAAQAAAAAAAQAAAAACAAAAAAEAAAABAAEAAAAAAAAAAgAAAAABAAABAQAAAAABAAEAAAAAAQAAAAAAAQAAAAAAAQAAAAAAAAAAAQABAAAAAAAAAAACAAAAAQEAAQAAAAAAAAAAAAAAAAABAAAAAQAAAAAAAAAAAAAAAAAAAQABAAAAAQABAQAAAAABAAAAAAAAAAAAAAEAAQABAAEAAQAAAAABAAABAAABAAAAAAAAAgAAAQAAAAAAAAABAAAAAQAAAAAAAgAAAAABAAABAAAAAAAAAAABAAAAAAAAAAAAAAIAAAABAAAAAAEBAAAAAQAAAAAAAQAAAAAAAAIAAAABAAABAAABAQACAQABAAABAAAAAAEAAQABAAAAAgEAAAIAAQABAAAAAAABAAAAAAEAAAAAAAABAAAAAAAAAAAAAAAAAAABAQAAAAEAAAABAQAAAAAAAAAAAAAAAAEBAAAAAAAAAAAAAAAAAAAAAAEAAAEAAAAAAAAAAAAAAAABAAAAAQAAAAAAAAAAAAAAAAAAAAAAAAEAAAAAAAAAAAABAQAAAAAAAAAAAQABAAEBAAEAAAAAAAAAAQAAAAAAAAEBAAEAAAEAAAAAAAEAAAAAAAEBAQAAAAABAAAAAQAAAAEBAAAAAAABAAEAAAAAAAABAAAAAAAAAAAAAAABAAABAQAAAAEAAQAAAAIAAQABAAAAAAAAAQABAAABAAAAAAAAAAEBAAEAAAAAAAAAAAAAAAAAAAAAAAABAQABAAEAAAIAAAABAAABAQABAAAAAAEAAQAAAAEBAgEBAAEAAQEAAAAAAAEAAAAAAQEAAAAAAAEAAQAAAAEAAQAAAAECAAEAAAAAAAEAAAAAAQEAAAAAAAAAAAEBAAEAAAAAAAEAAAABAAAAAAAAAAEBAAAAAAEAAAEAAAAAAQEAAAAAAAAAAQEAAAAAAAAAAAABAQAAAAAAAAAAAAAAAQABAAAAAAAAAAABAAAAAAAAAAABAAAAAAACAAAAAQAAAAABAAABAAAAAAAAAAEAAAEAAAIAAAAAAAAAAAAAAAABAAAAAAAAAAAAAAAAAAABAAAAAAEAAAAAAAAAAAABAQAAAQABAAAAAAEBAAEAAAAAAAEAAAEAAAABAAAAAAAAAAAAAgABAAACAAEBAAABAAABAAABAQAAAAEAAQAAAAAAAAEAAAAAAQAAAQEAAQAAAAAAAAEBAAAAAAABAAABAQAAAAAAAAEAAAAAAQAAAAAAAAAAAAAAAAAAAAAAAAAAAQAAAAABAAAAAAEAAAABAQAAAAAAAQABAAABAAAAAAABAgAAAAEBAAEAAQAAAAAAAAAAAAEAAAAAAAABAQABAAIAAAEAAAAAAAAAAQAAAAABAAAAAAABAAEAAAABAAAAAAAAAAAAAAABAAAAAQAAAAEAAAAAAgABAAAAAAEBAAABAAABAAEBAQAAAQAAAQAAAgEAAAAAAAABAAAAAAAAAQABAAEAAAEAAAABAQAAAQAAAAAAAAABAQAAAQAAAQAAAAAAAAABAQACAAAAAgAAAAABAAAAAgABAAAAAAAAAAABAQAAAAABAQABAAAAAAAAAAAAAAAAAAABAAAAAAEAAgAAAQAAAQABAQECAQAAAAAAAAABAQABAAACAQABAAAAAAAAAAAAAQAAAAAAAAAAAAAAAAAAAAAAAAAAAAAAAAAAAAAAAAEBAQABAAAAAAAAAAAAAQEAAAAAAAAAAAAAAAEAAAAAAAEAAQAAAAAAAQAAAAAAAAAAAAAAAAAAAAABAAAAAAEAAAAAAAEAAAABAAAAAAAAAAAAAAABAAEAAQEAAAABAAAAAAEAAAAAAAAAAAAAAAEAAAAAAAAAAAAAAAAAAAAAAAAAAAAAAAAAAQABAQAAAAAAAQAAAAAAAAEAAQAAAAEAAAAAAAAAAQAAAAAAAQAAAQAAAAACAAAAAQEAAQABAAEAAAAAAAAAAAAAAAAAAQAAAQAAAAAAAAAAAAAAAAECAAAAAAAAAAAAAAAAAAEAAAAAAAABAAAAAAAAAQABAQEAAAABAAAAAAAAAAAAAAAAAAMAAAEBAQAAAAAAAQABAAEBAAABAAABAAAAAAAAAAAAAAEAAAABAQABAAEBAAAAAAACAAAAAAAAAAIAAQABAAAAAAABAAAAAAAAAAAAAQEAAAEAAQABAAAAAAAAAAABAAABAAABAAAAAAAAAAAAAAAAAAAAAAAAAAAAAAEAAAEAAAAAAAAAAAIBAAAA",
          "dtype": "i1"
         },
         "y0": " ",
         "yaxis": "y"
        }
       ],
       "layout": {
        "boxmode": "group",
        "legend": {
         "tracegroupgap": 0
        },
        "template": {
         "data": {
          "bar": [
           {
            "error_x": {
             "color": "#2a3f5f"
            },
            "error_y": {
             "color": "#2a3f5f"
            },
            "marker": {
             "line": {
              "color": "#E5ECF6",
              "width": 0.5
             },
             "pattern": {
              "fillmode": "overlay",
              "size": 10,
              "solidity": 0.2
             }
            },
            "type": "bar"
           }
          ],
          "barpolar": [
           {
            "marker": {
             "line": {
              "color": "#E5ECF6",
              "width": 0.5
             },
             "pattern": {
              "fillmode": "overlay",
              "size": 10,
              "solidity": 0.2
             }
            },
            "type": "barpolar"
           }
          ],
          "carpet": [
           {
            "aaxis": {
             "endlinecolor": "#2a3f5f",
             "gridcolor": "white",
             "linecolor": "white",
             "minorgridcolor": "white",
             "startlinecolor": "#2a3f5f"
            },
            "baxis": {
             "endlinecolor": "#2a3f5f",
             "gridcolor": "white",
             "linecolor": "white",
             "minorgridcolor": "white",
             "startlinecolor": "#2a3f5f"
            },
            "type": "carpet"
           }
          ],
          "choropleth": [
           {
            "colorbar": {
             "outlinewidth": 0,
             "ticks": ""
            },
            "type": "choropleth"
           }
          ],
          "contour": [
           {
            "colorbar": {
             "outlinewidth": 0,
             "ticks": ""
            },
            "colorscale": [
             [
              0,
              "#0d0887"
             ],
             [
              0.1111111111111111,
              "#46039f"
             ],
             [
              0.2222222222222222,
              "#7201a8"
             ],
             [
              0.3333333333333333,
              "#9c179e"
             ],
             [
              0.4444444444444444,
              "#bd3786"
             ],
             [
              0.5555555555555556,
              "#d8576b"
             ],
             [
              0.6666666666666666,
              "#ed7953"
             ],
             [
              0.7777777777777778,
              "#fb9f3a"
             ],
             [
              0.8888888888888888,
              "#fdca26"
             ],
             [
              1,
              "#f0f921"
             ]
            ],
            "type": "contour"
           }
          ],
          "contourcarpet": [
           {
            "colorbar": {
             "outlinewidth": 0,
             "ticks": ""
            },
            "type": "contourcarpet"
           }
          ],
          "heatmap": [
           {
            "colorbar": {
             "outlinewidth": 0,
             "ticks": ""
            },
            "colorscale": [
             [
              0,
              "#0d0887"
             ],
             [
              0.1111111111111111,
              "#46039f"
             ],
             [
              0.2222222222222222,
              "#7201a8"
             ],
             [
              0.3333333333333333,
              "#9c179e"
             ],
             [
              0.4444444444444444,
              "#bd3786"
             ],
             [
              0.5555555555555556,
              "#d8576b"
             ],
             [
              0.6666666666666666,
              "#ed7953"
             ],
             [
              0.7777777777777778,
              "#fb9f3a"
             ],
             [
              0.8888888888888888,
              "#fdca26"
             ],
             [
              1,
              "#f0f921"
             ]
            ],
            "type": "heatmap"
           }
          ],
          "histogram": [
           {
            "marker": {
             "pattern": {
              "fillmode": "overlay",
              "size": 10,
              "solidity": 0.2
             }
            },
            "type": "histogram"
           }
          ],
          "histogram2d": [
           {
            "colorbar": {
             "outlinewidth": 0,
             "ticks": ""
            },
            "colorscale": [
             [
              0,
              "#0d0887"
             ],
             [
              0.1111111111111111,
              "#46039f"
             ],
             [
              0.2222222222222222,
              "#7201a8"
             ],
             [
              0.3333333333333333,
              "#9c179e"
             ],
             [
              0.4444444444444444,
              "#bd3786"
             ],
             [
              0.5555555555555556,
              "#d8576b"
             ],
             [
              0.6666666666666666,
              "#ed7953"
             ],
             [
              0.7777777777777778,
              "#fb9f3a"
             ],
             [
              0.8888888888888888,
              "#fdca26"
             ],
             [
              1,
              "#f0f921"
             ]
            ],
            "type": "histogram2d"
           }
          ],
          "histogram2dcontour": [
           {
            "colorbar": {
             "outlinewidth": 0,
             "ticks": ""
            },
            "colorscale": [
             [
              0,
              "#0d0887"
             ],
             [
              0.1111111111111111,
              "#46039f"
             ],
             [
              0.2222222222222222,
              "#7201a8"
             ],
             [
              0.3333333333333333,
              "#9c179e"
             ],
             [
              0.4444444444444444,
              "#bd3786"
             ],
             [
              0.5555555555555556,
              "#d8576b"
             ],
             [
              0.6666666666666666,
              "#ed7953"
             ],
             [
              0.7777777777777778,
              "#fb9f3a"
             ],
             [
              0.8888888888888888,
              "#fdca26"
             ],
             [
              1,
              "#f0f921"
             ]
            ],
            "type": "histogram2dcontour"
           }
          ],
          "mesh3d": [
           {
            "colorbar": {
             "outlinewidth": 0,
             "ticks": ""
            },
            "type": "mesh3d"
           }
          ],
          "parcoords": [
           {
            "line": {
             "colorbar": {
              "outlinewidth": 0,
              "ticks": ""
             }
            },
            "type": "parcoords"
           }
          ],
          "pie": [
           {
            "automargin": true,
            "type": "pie"
           }
          ],
          "scatter": [
           {
            "fillpattern": {
             "fillmode": "overlay",
             "size": 10,
             "solidity": 0.2
            },
            "type": "scatter"
           }
          ],
          "scatter3d": [
           {
            "line": {
             "colorbar": {
              "outlinewidth": 0,
              "ticks": ""
             }
            },
            "marker": {
             "colorbar": {
              "outlinewidth": 0,
              "ticks": ""
             }
            },
            "type": "scatter3d"
           }
          ],
          "scattercarpet": [
           {
            "marker": {
             "colorbar": {
              "outlinewidth": 0,
              "ticks": ""
             }
            },
            "type": "scattercarpet"
           }
          ],
          "scattergeo": [
           {
            "marker": {
             "colorbar": {
              "outlinewidth": 0,
              "ticks": ""
             }
            },
            "type": "scattergeo"
           }
          ],
          "scattergl": [
           {
            "marker": {
             "colorbar": {
              "outlinewidth": 0,
              "ticks": ""
             }
            },
            "type": "scattergl"
           }
          ],
          "scattermap": [
           {
            "marker": {
             "colorbar": {
              "outlinewidth": 0,
              "ticks": ""
             }
            },
            "type": "scattermap"
           }
          ],
          "scattermapbox": [
           {
            "marker": {
             "colorbar": {
              "outlinewidth": 0,
              "ticks": ""
             }
            },
            "type": "scattermapbox"
           }
          ],
          "scatterpolar": [
           {
            "marker": {
             "colorbar": {
              "outlinewidth": 0,
              "ticks": ""
             }
            },
            "type": "scatterpolar"
           }
          ],
          "scatterpolargl": [
           {
            "marker": {
             "colorbar": {
              "outlinewidth": 0,
              "ticks": ""
             }
            },
            "type": "scatterpolargl"
           }
          ],
          "scatterternary": [
           {
            "marker": {
             "colorbar": {
              "outlinewidth": 0,
              "ticks": ""
             }
            },
            "type": "scatterternary"
           }
          ],
          "surface": [
           {
            "colorbar": {
             "outlinewidth": 0,
             "ticks": ""
            },
            "colorscale": [
             [
              0,
              "#0d0887"
             ],
             [
              0.1111111111111111,
              "#46039f"
             ],
             [
              0.2222222222222222,
              "#7201a8"
             ],
             [
              0.3333333333333333,
              "#9c179e"
             ],
             [
              0.4444444444444444,
              "#bd3786"
             ],
             [
              0.5555555555555556,
              "#d8576b"
             ],
             [
              0.6666666666666666,
              "#ed7953"
             ],
             [
              0.7777777777777778,
              "#fb9f3a"
             ],
             [
              0.8888888888888888,
              "#fdca26"
             ],
             [
              1,
              "#f0f921"
             ]
            ],
            "type": "surface"
           }
          ],
          "table": [
           {
            "cells": {
             "fill": {
              "color": "#EBF0F8"
             },
             "line": {
              "color": "white"
             }
            },
            "header": {
             "fill": {
              "color": "#C8D4E3"
             },
             "line": {
              "color": "white"
             }
            },
            "type": "table"
           }
          ]
         },
         "layout": {
          "annotationdefaults": {
           "arrowcolor": "#2a3f5f",
           "arrowhead": 0,
           "arrowwidth": 1
          },
          "autotypenumbers": "strict",
          "coloraxis": {
           "colorbar": {
            "outlinewidth": 0,
            "ticks": ""
           }
          },
          "colorscale": {
           "diverging": [
            [
             0,
             "#8e0152"
            ],
            [
             0.1,
             "#c51b7d"
            ],
            [
             0.2,
             "#de77ae"
            ],
            [
             0.3,
             "#f1b6da"
            ],
            [
             0.4,
             "#fde0ef"
            ],
            [
             0.5,
             "#f7f7f7"
            ],
            [
             0.6,
             "#e6f5d0"
            ],
            [
             0.7,
             "#b8e186"
            ],
            [
             0.8,
             "#7fbc41"
            ],
            [
             0.9,
             "#4d9221"
            ],
            [
             1,
             "#276419"
            ]
           ],
           "sequential": [
            [
             0,
             "#0d0887"
            ],
            [
             0.1111111111111111,
             "#46039f"
            ],
            [
             0.2222222222222222,
             "#7201a8"
            ],
            [
             0.3333333333333333,
             "#9c179e"
            ],
            [
             0.4444444444444444,
             "#bd3786"
            ],
            [
             0.5555555555555556,
             "#d8576b"
            ],
            [
             0.6666666666666666,
             "#ed7953"
            ],
            [
             0.7777777777777778,
             "#fb9f3a"
            ],
            [
             0.8888888888888888,
             "#fdca26"
            ],
            [
             1,
             "#f0f921"
            ]
           ],
           "sequentialminus": [
            [
             0,
             "#0d0887"
            ],
            [
             0.1111111111111111,
             "#46039f"
            ],
            [
             0.2222222222222222,
             "#7201a8"
            ],
            [
             0.3333333333333333,
             "#9c179e"
            ],
            [
             0.4444444444444444,
             "#bd3786"
            ],
            [
             0.5555555555555556,
             "#d8576b"
            ],
            [
             0.6666666666666666,
             "#ed7953"
            ],
            [
             0.7777777777777778,
             "#fb9f3a"
            ],
            [
             0.8888888888888888,
             "#fdca26"
            ],
            [
             1,
             "#f0f921"
            ]
           ]
          },
          "colorway": [
           "#636efa",
           "#EF553B",
           "#00cc96",
           "#ab63fa",
           "#FFA15A",
           "#19d3f3",
           "#FF6692",
           "#B6E880",
           "#FF97FF",
           "#FECB52"
          ],
          "font": {
           "color": "#2a3f5f"
          },
          "geo": {
           "bgcolor": "white",
           "lakecolor": "white",
           "landcolor": "#E5ECF6",
           "showlakes": true,
           "showland": true,
           "subunitcolor": "white"
          },
          "hoverlabel": {
           "align": "left"
          },
          "hovermode": "closest",
          "mapbox": {
           "style": "light"
          },
          "paper_bgcolor": "white",
          "plot_bgcolor": "#E5ECF6",
          "polar": {
           "angularaxis": {
            "gridcolor": "white",
            "linecolor": "white",
            "ticks": ""
           },
           "bgcolor": "#E5ECF6",
           "radialaxis": {
            "gridcolor": "white",
            "linecolor": "white",
            "ticks": ""
           }
          },
          "scene": {
           "xaxis": {
            "backgroundcolor": "#E5ECF6",
            "gridcolor": "white",
            "gridwidth": 2,
            "linecolor": "white",
            "showbackground": true,
            "ticks": "",
            "zerolinecolor": "white"
           },
           "yaxis": {
            "backgroundcolor": "#E5ECF6",
            "gridcolor": "white",
            "gridwidth": 2,
            "linecolor": "white",
            "showbackground": true,
            "ticks": "",
            "zerolinecolor": "white"
           },
           "zaxis": {
            "backgroundcolor": "#E5ECF6",
            "gridcolor": "white",
            "gridwidth": 2,
            "linecolor": "white",
            "showbackground": true,
            "ticks": "",
            "zerolinecolor": "white"
           }
          },
          "shapedefaults": {
           "line": {
            "color": "#2a3f5f"
           }
          },
          "ternary": {
           "aaxis": {
            "gridcolor": "white",
            "linecolor": "white",
            "ticks": ""
           },
           "baxis": {
            "gridcolor": "white",
            "linecolor": "white",
            "ticks": ""
           },
           "bgcolor": "#E5ECF6",
           "caxis": {
            "gridcolor": "white",
            "linecolor": "white",
            "ticks": ""
           }
          },
          "title": {
           "x": 0.05
          },
          "xaxis": {
           "automargin": true,
           "gridcolor": "white",
           "linecolor": "white",
           "ticks": "",
           "title": {
            "standoff": 15
           },
           "zerolinecolor": "white",
           "zerolinewidth": 2
          },
          "yaxis": {
           "automargin": true,
           "gridcolor": "white",
           "linecolor": "white",
           "ticks": "",
           "title": {
            "standoff": 15
           },
           "zerolinecolor": "white",
           "zerolinewidth": 2
          }
         }
        },
        "title": {
         "text": "Boxplot of previous_defaults"
        },
        "xaxis": {
         "anchor": "y",
         "domain": [
          0,
          1
         ]
        },
        "yaxis": {
         "anchor": "x",
         "domain": [
          0,
          1
         ],
         "title": {
          "text": "previous_defaults"
         }
        }
       }
      },
      "image/png": "[encoded data removed]"
     },
     "metadata": {},
     "output_type": "display_data"
    },
    {
     "data": {
      "application/vnd.plotly.v1+json": {
       "config": {
        "plotlyServerURL": "https://plot.ly"
       },
       "data": [
        {
         "alignmentgroup": "True",
         "hovertemplate": "credit_score=%{y}<extra></extra>",
         "legendgroup": "",
         "marker": {
          "color": "#636efa"
         },
         "name": "",
         "notched": false,
         "offsetgroup": "",
         "orientation": "v",
         "showlegend": false,
         "type": "box",
         "x0": " ",
         "xaxis": "x",
         "y": {
          "bdata": "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",
          "dtype": "i2"
         },
         "y0": " ",
         "yaxis": "y"
        }
       ],
       "layout": {
        "boxmode": "group",
        "legend": {
         "tracegroupgap": 0
        },
        "template": {
         "data": {
          "bar": [
           {
            "error_x": {
             "color": "#2a3f5f"
            },
            "error_y": {
             "color": "#2a3f5f"
            },
            "marker": {
             "line": {
              "color": "#E5ECF6",
              "width": 0.5
             },
             "pattern": {
              "fillmode": "overlay",
              "size": 10,
              "solidity": 0.2
             }
            },
            "type": "bar"
           }
          ],
          "barpolar": [
           {
            "marker": {
             "line": {
              "color": "#E5ECF6",
              "width": 0.5
             },
             "pattern": {
              "fillmode": "overlay",
              "size": 10,
              "solidity": 0.2
             }
            },
            "type": "barpolar"
           }
          ],
          "carpet": [
           {
            "aaxis": {
             "endlinecolor": "#2a3f5f",
             "gridcolor": "white",
             "linecolor": "white",
             "minorgridcolor": "white",
             "startlinecolor": "#2a3f5f"
            },
            "baxis": {
             "endlinecolor": "#2a3f5f",
             "gridcolor": "white",
             "linecolor": "white",
             "minorgridcolor": "white",
             "startlinecolor": "#2a3f5f"
            },
            "type": "carpet"
           }
          ],
          "choropleth": [
           {
            "colorbar": {
             "outlinewidth": 0,
             "ticks": ""
            },
            "type": "choropleth"
           }
          ],
          "contour": [
           {
            "colorbar": {
             "outlinewidth": 0,
             "ticks": ""
            },
            "colorscale": [
             [
              0,
              "#0d0887"
             ],
             [
              0.1111111111111111,
              "#46039f"
             ],
             [
              0.2222222222222222,
              "#7201a8"
             ],
             [
              0.3333333333333333,
              "#9c179e"
             ],
             [
              0.4444444444444444,
              "#bd3786"
             ],
             [
              0.5555555555555556,
              "#d8576b"
             ],
             [
              0.6666666666666666,
              "#ed7953"
             ],
             [
              0.7777777777777778,
              "#fb9f3a"
             ],
             [
              0.8888888888888888,
              "#fdca26"
             ],
             [
              1,
              "#f0f921"
             ]
            ],
            "type": "contour"
           }
          ],
          "contourcarpet": [
           {
            "colorbar": {
             "outlinewidth": 0,
             "ticks": ""
            },
            "type": "contourcarpet"
           }
          ],
          "heatmap": [
           {
            "colorbar": {
             "outlinewidth": 0,
             "ticks": ""
            },
            "colorscale": [
             [
              0,
              "#0d0887"
             ],
             [
              0.1111111111111111,
              "#46039f"
             ],
             [
              0.2222222222222222,
              "#7201a8"
             ],
             [
              0.3333333333333333,
              "#9c179e"
             ],
             [
              0.4444444444444444,
              "#bd3786"
             ],
             [
              0.5555555555555556,
              "#d8576b"
             ],
             [
              0.6666666666666666,
              "#ed7953"
             ],
             [
              0.7777777777777778,
              "#fb9f3a"
             ],
             [
              0.8888888888888888,
              "#fdca26"
             ],
             [
              1,
              "#f0f921"
             ]
            ],
            "type": "heatmap"
           }
          ],
          "histogram": [
           {
            "marker": {
             "pattern": {
              "fillmode": "overlay",
              "size": 10,
              "solidity": 0.2
             }
            },
            "type": "histogram"
           }
          ],
          "histogram2d": [
           {
            "colorbar": {
             "outlinewidth": 0,
             "ticks": ""
            },
            "colorscale": [
             [
              0,
              "#0d0887"
             ],
             [
              0.1111111111111111,
              "#46039f"
             ],
             [
              0.2222222222222222,
              "#7201a8"
             ],
             [
              0.3333333333333333,
              "#9c179e"
             ],
             [
              0.4444444444444444,
              "#bd3786"
             ],
             [
              0.5555555555555556,
              "#d8576b"
             ],
             [
              0.6666666666666666,
              "#ed7953"
             ],
             [
              0.7777777777777778,
              "#fb9f3a"
             ],
             [
              0.8888888888888888,
              "#fdca26"
             ],
             [
              1,
              "#f0f921"
             ]
            ],
            "type": "histogram2d"
           }
          ],
          "histogram2dcontour": [
           {
            "colorbar": {
             "outlinewidth": 0,
             "ticks": ""
            },
            "colorscale": [
             [
              0,
              "#0d0887"
             ],
             [
              0.1111111111111111,
              "#46039f"
             ],
             [
              0.2222222222222222,
              "#7201a8"
             ],
             [
              0.3333333333333333,
              "#9c179e"
             ],
             [
              0.4444444444444444,
              "#bd3786"
             ],
             [
              0.5555555555555556,
              "#d8576b"
             ],
             [
              0.6666666666666666,
              "#ed7953"
             ],
             [
              0.7777777777777778,
              "#fb9f3a"
             ],
             [
              0.8888888888888888,
              "#fdca26"
             ],
             [
              1,
              "#f0f921"
             ]
            ],
            "type": "histogram2dcontour"
           }
          ],
          "mesh3d": [
           {
            "colorbar": {
             "outlinewidth": 0,
             "ticks": ""
            },
            "type": "mesh3d"
           }
          ],
          "parcoords": [
           {
            "line": {
             "colorbar": {
              "outlinewidth": 0,
              "ticks": ""
             }
            },
            "type": "parcoords"
           }
          ],
          "pie": [
           {
            "automargin": true,
            "type": "pie"
           }
          ],
          "scatter": [
           {
            "fillpattern": {
             "fillmode": "overlay",
             "size": 10,
             "solidity": 0.2
            },
            "type": "scatter"
           }
          ],
          "scatter3d": [
           {
            "line": {
             "colorbar": {
              "outlinewidth": 0,
              "ticks": ""
             }
            },
            "marker": {
             "colorbar": {
              "outlinewidth": 0,
              "ticks": ""
             }
            },
            "type": "scatter3d"
           }
          ],
          "scattercarpet": [
           {
            "marker": {
             "colorbar": {
              "outlinewidth": 0,
              "ticks": ""
             }
            },
            "type": "scattercarpet"
           }
          ],
          "scattergeo": [
           {
            "marker": {
             "colorbar": {
              "outlinewidth": 0,
              "ticks": ""
             }
            },
            "type": "scattergeo"
           }
          ],
          "scattergl": [
           {
            "marker": {
             "colorbar": {
              "outlinewidth": 0,
              "ticks": ""
             }
            },
            "type": "scattergl"
           }
          ],
          "scattermap": [
           {
            "marker": {
             "colorbar": {
              "outlinewidth": 0,
              "ticks": ""
             }
            },
            "type": "scattermap"
           }
          ],
          "scattermapbox": [
           {
            "marker": {
             "colorbar": {
              "outlinewidth": 0,
              "ticks": ""
             }
            },
            "type": "scattermapbox"
           }
          ],
          "scatterpolar": [
           {
            "marker": {
             "colorbar": {
              "outlinewidth": 0,
              "ticks": ""
             }
            },
            "type": "scatterpolar"
           }
          ],
          "scatterpolargl": [
           {
            "marker": {
             "colorbar": {
              "outlinewidth": 0,
              "ticks": ""
             }
            },
            "type": "scatterpolargl"
           }
          ],
          "scatterternary": [
           {
            "marker": {
             "colorbar": {
              "outlinewidth": 0,
              "ticks": ""
             }
            },
            "type": "scatterternary"
           }
          ],
          "surface": [
           {
            "colorbar": {
             "outlinewidth": 0,
             "ticks": ""
            },
            "colorscale": [
             [
              0,
              "#0d0887"
             ],
             [
              0.1111111111111111,
              "#46039f"
             ],
             [
              0.2222222222222222,
              "#7201a8"
             ],
             [
              0.3333333333333333,
              "#9c179e"
             ],
             [
              0.4444444444444444,
              "#bd3786"
             ],
             [
              0.5555555555555556,
              "#d8576b"
             ],
             [
              0.6666666666666666,
              "#ed7953"
             ],
             [
              0.7777777777777778,
              "#fb9f3a"
             ],
             [
              0.8888888888888888,
              "#fdca26"
             ],
             [
              1,
              "#f0f921"
             ]
            ],
            "type": "surface"
           }
          ],
          "table": [
           {
            "cells": {
             "fill": {
              "color": "#EBF0F8"
             },
             "line": {
              "color": "white"
             }
            },
            "header": {
             "fill": {
              "color": "#C8D4E3"
             },
             "line": {
              "color": "white"
             }
            },
            "type": "table"
           }
          ]
         },
         "layout": {
          "annotationdefaults": {
           "arrowcolor": "#2a3f5f",
           "arrowhead": 0,
           "arrowwidth": 1
          },
          "autotypenumbers": "strict",
          "coloraxis": {
           "colorbar": {
            "outlinewidth": 0,
            "ticks": ""
           }
          },
          "colorscale": {
           "diverging": [
            [
             0,
             "#8e0152"
            ],
            [
             0.1,
             "#c51b7d"
            ],
            [
             0.2,
             "#de77ae"
            ],
            [
             0.3,
             "#f1b6da"
            ],
            [
             0.4,
             "#fde0ef"
            ],
            [
             0.5,
             "#f7f7f7"
            ],
            [
             0.6,
             "#e6f5d0"
            ],
            [
             0.7,
             "#b8e186"
            ],
            [
             0.8,
             "#7fbc41"
            ],
            [
             0.9,
             "#4d9221"
            ],
            [
             1,
             "#276419"
            ]
           ],
           "sequential": [
            [
             0,
             "#0d0887"
            ],
            [
             0.1111111111111111,
             "#46039f"
            ],
            [
             0.2222222222222222,
             "#7201a8"
            ],
            [
             0.3333333333333333,
             "#9c179e"
            ],
            [
             0.4444444444444444,
             "#bd3786"
            ],
            [
             0.5555555555555556,
             "#d8576b"
            ],
            [
             0.6666666666666666,
             "#ed7953"
            ],
            [
             0.7777777777777778,
             "#fb9f3a"
            ],
            [
             0.8888888888888888,
             "#fdca26"
            ],
            [
             1,
             "#f0f921"
            ]
           ],
           "sequentialminus": [
            [
             0,
             "#0d0887"
            ],
            [
             0.1111111111111111,
             "#46039f"
            ],
            [
             0.2222222222222222,
             "#7201a8"
            ],
            [
             0.3333333333333333,
             "#9c179e"
            ],
            [
             0.4444444444444444,
             "#bd3786"
            ],
            [
             0.5555555555555556,
             "#d8576b"
            ],
            [
             0.6666666666666666,
             "#ed7953"
            ],
            [
             0.7777777777777778,
             "#fb9f3a"
            ],
            [
             0.8888888888888888,
             "#fdca26"
            ],
            [
             1,
             "#f0f921"
            ]
           ]
          },
          "colorway": [
           "#636efa",
           "#EF553B",
           "#00cc96",
           "#ab63fa",
           "#FFA15A",
           "#19d3f3",
           "#FF6692",
           "#B6E880",
           "#FF97FF",
           "#FECB52"
          ],
          "font": {
           "color": "#2a3f5f"
          },
          "geo": {
           "bgcolor": "white",
           "lakecolor": "white",
           "landcolor": "#E5ECF6",
           "showlakes": true,
           "showland": true,
           "subunitcolor": "white"
          },
          "hoverlabel": {
           "align": "left"
          },
          "hovermode": "closest",
          "mapbox": {
           "style": "light"
          },
          "paper_bgcolor": "white",
          "plot_bgcolor": "#E5ECF6",
          "polar": {
           "angularaxis": {
            "gridcolor": "white",
            "linecolor": "white",
            "ticks": ""
           },
           "bgcolor": "#E5ECF6",
           "radialaxis": {
            "gridcolor": "white",
            "linecolor": "white",
            "ticks": ""
           }
          },
          "scene": {
           "xaxis": {
            "backgroundcolor": "#E5ECF6",
            "gridcolor": "white",
            "gridwidth": 2,
            "linecolor": "white",
            "showbackground": true,
            "ticks": "",
            "zerolinecolor": "white"
           },
           "yaxis": {
            "backgroundcolor": "#E5ECF6",
            "gridcolor": "white",
            "gridwidth": 2,
            "linecolor": "white",
            "showbackground": true,
            "ticks": "",
            "zerolinecolor": "white"
           },
           "zaxis": {
            "backgroundcolor": "#E5ECF6",
            "gridcolor": "white",
            "gridwidth": 2,
            "linecolor": "white",
            "showbackground": true,
            "ticks": "",
            "zerolinecolor": "white"
           }
          },
          "shapedefaults": {
           "line": {
            "color": "#2a3f5f"
           }
          },
          "ternary": {
           "aaxis": {
            "gridcolor": "white",
            "linecolor": "white",
            "ticks": ""
           },
           "baxis": {
            "gridcolor": "white",
            "linecolor": "white",
            "ticks": ""
           },
           "bgcolor": "#E5ECF6",
           "caxis": {
            "gridcolor": "white",
            "linecolor": "white",
            "ticks": ""
           }
          },
          "title": {
           "x": 0.05
          },
          "xaxis": {
           "automargin": true,
           "gridcolor": "white",
           "linecolor": "white",
           "ticks": "",
           "title": {
            "standoff": 15
           },
           "zerolinecolor": "white",
           "zerolinewidth": 2
          },
          "yaxis": {
           "automargin": true,
           "gridcolor": "white",
           "linecolor": "white",
           "ticks": "",
           "title": {
            "standoff": 15
           },
           "zerolinecolor": "white",
           "zerolinewidth": 2
          }
         }
        },
        "title": {
         "text": "Boxplot of credit_score"
        },
        "xaxis": {
         "anchor": "y",
         "domain": [
          0,
          1
         ]
        },
        "yaxis": {
         "anchor": "x",
         "domain": [
          0,
          1
         ],
         "title": {
          "text": "credit_score"
         }
        }
       }
      },
      "image/png": "[encoded data removed]"
     },
     "metadata": {},
     "output_type": "display_data"
    }
   ],
   "source": [
    "# Loop boxplot untuk setiap fitur numerik (kecuali target)\n",
    "num_cols = df_train.select_dtypes(include='number').columns.tolist()\n",
    "num_cols.remove('default')\n",
    "\n",
    "for col in num_cols:\n",
    "    fig = px.box(df_clean, y=col, title=f'Boxplot of {col}')\n",
    "    fig.show()"
   ]
  },
  {
   "cell_type": "code",
   "execution_count": 13,
   "id": "62872412-bb86-4ab7-a35c-8cffdb3dbcc1",
   "metadata": {},
   "outputs": [
    {
     "name": "stdout",
     "output_type": "stream",
     "text": [
      "age: 0 outlier (0.00%)\n",
      "monthly_income: 0 outlier (0.00%)\n",
      "loan_amount: 0 outlier (0.00%)\n",
      "previous_defaults: 1314 outlier (21.90%)\n",
      "credit_score: 0 outlier (0.00%)\n"
     ]
    }
   ],
   "source": [
    "# Presentase outlier\n",
    "\n",
    "for col in num_cols:\n",
    "    Q1 = df_train[col].quantile(0.25)\n",
    "    Q3 = df_train[col].quantile(0.75)\n",
    "    IQR = Q3 - Q1\n",
    "    lower_bound = Q1 - 1.5 * IQR\n",
    "    upper_bound = Q3 + 1.5 * IQR\n",
    "    n_out = ((df_clean[col] < lower_bound) | (df_clean[col] > upper_bound)).sum()\n",
    "    print(f'{col}: {n_out} outlier ({n_out/len(df_clean)*100:.2f}%)')"
   ]
  },
  {
   "cell_type": "code",
   "execution_count": 14,
   "id": "d10634c7-fb8c-43dd-8ca3-481f80f8d2bb",
   "metadata": {},
   "outputs": [
    {
     "data": {
      "text/html": [
       "<div>\n",
       "<style scoped>\n",
       "    .dataframe tbody tr th:only-of-type {\n",
       "        vertical-align: middle;\n",
       "    }\n",
       "\n",
       "    .dataframe tbody tr th {\n",
       "        vertical-align: top;\n",
       "    }\n",
       "\n",
       "    .dataframe thead th {\n",
       "        text-align: right;\n",
       "    }\n",
       "</style>\n",
       "<table border=\"1\" class=\"dataframe\">\n",
       "  <thead>\n",
       "    <tr style=\"text-align: right;\">\n",
       "      <th></th>\n",
       "      <th>age</th>\n",
       "      <th>monthly_income</th>\n",
       "      <th>loan_amount</th>\n",
       "      <th>previous_defaults</th>\n",
       "      <th>credit_score</th>\n",
       "      <th>default</th>\n",
       "    </tr>\n",
       "  </thead>\n",
       "  <tbody>\n",
       "    <tr>\n",
       "      <th>age</th>\n",
       "      <td>1.000000</td>\n",
       "      <td>-0.013844</td>\n",
       "      <td>0.009990</td>\n",
       "      <td>-0.006814</td>\n",
       "      <td>0.007558</td>\n",
       "      <td>0.001169</td>\n",
       "    </tr>\n",
       "    <tr>\n",
       "      <th>monthly_income</th>\n",
       "      <td>-0.013844</td>\n",
       "      <td>1.000000</td>\n",
       "      <td>-0.007674</td>\n",
       "      <td>0.013885</td>\n",
       "      <td>0.013466</td>\n",
       "      <td>-0.062206</td>\n",
       "    </tr>\n",
       "    <tr>\n",
       "      <th>loan_amount</th>\n",
       "      <td>0.009990</td>\n",
       "      <td>-0.007674</td>\n",
       "      <td>1.000000</td>\n",
       "      <td>0.007415</td>\n",
       "      <td>0.025951</td>\n",
       "      <td>0.074503</td>\n",
       "    </tr>\n",
       "    <tr>\n",
       "      <th>previous_defaults</th>\n",
       "      <td>-0.006814</td>\n",
       "      <td>0.013885</td>\n",
       "      <td>0.007415</td>\n",
       "      <td>1.000000</td>\n",
       "      <td>0.005384</td>\n",
       "      <td>0.053876</td>\n",
       "    </tr>\n",
       "    <tr>\n",
       "      <th>credit_score</th>\n",
       "      <td>0.007558</td>\n",
       "      <td>0.013466</td>\n",
       "      <td>0.025951</td>\n",
       "      <td>0.005384</td>\n",
       "      <td>1.000000</td>\n",
       "      <td>-0.064042</td>\n",
       "    </tr>\n",
       "    <tr>\n",
       "      <th>default</th>\n",
       "      <td>0.001169</td>\n",
       "      <td>-0.062206</td>\n",
       "      <td>0.074503</td>\n",
       "      <td>0.053876</td>\n",
       "      <td>-0.064042</td>\n",
       "      <td>1.000000</td>\n",
       "    </tr>\n",
       "  </tbody>\n",
       "</table>\n",
       "</div>"
      ],
      "text/plain": [
       "                        age  monthly_income  loan_amount  previous_defaults  \\\n",
       "age                1.000000       -0.013844     0.009990          -0.006814   \n",
       "monthly_income    -0.013844        1.000000    -0.007674           0.013885   \n",
       "loan_amount        0.009990       -0.007674     1.000000           0.007415   \n",
       "previous_defaults -0.006814        0.013885     0.007415           1.000000   \n",
       "credit_score       0.007558        0.013466     0.025951           0.005384   \n",
       "default            0.001169       -0.062206     0.074503           0.053876   \n",
       "\n",
       "                   credit_score   default  \n",
       "age                    0.007558  0.001169  \n",
       "monthly_income         0.013466 -0.062206  \n",
       "loan_amount            0.025951  0.074503  \n",
       "previous_defaults      0.005384  0.053876  \n",
       "credit_score           1.000000 -0.064042  \n",
       "default               -0.064042  1.000000  "
      ]
     },
     "execution_count": 14,
     "metadata": {},
     "output_type": "execute_result"
    }
   ],
   "source": [
    "df_train.corr()"
   ]
  },
  {
   "cell_type": "markdown",
   "id": "4b58b82f-06b1-45ba-8b31-fde5696468b5",
   "metadata": {},
   "source": [
    "## Data Preprocessing"
   ]
  },
  {
   "cell_type": "code",
   "execution_count": 15,
   "id": "148d1ce6-ced2-4e9f-b6ed-04481e5dbc6d",
   "metadata": {},
   "outputs": [],
   "source": [
    "# # Ubah range/binning data train\n",
    "\n",
    "# # Age\n",
    "# age_bins = pd.qcut(df_train['age'], q=4, retbins=True)[1]  # Dapatkan interval/range\n",
    "# df_train['age'] = pd.cut(df_train['age'], bins=age_bins, labels=[1, 2, 3, 4], include_lowest=True)\n",
    "\n",
    "# # Monthly Income\n",
    "# income_bins = pd.qcut(df_train['monthly_income'], q=4, retbins=True)[1]\n",
    "# df_train['monthly_income'] = pd.cut(df_train['monthly_income'], bins=income_bins, labels=[1, 2, 3, 4], include_lowest=True)\n",
    "\n",
    "# # Loan Amount\n",
    "# loan_bins = pd.qcut(df_train['loan_amount'], q=4, retbins=True)[1]\n",
    "# df_train['loan_amount'] = pd.cut(df_train['loan_amount'], bins=loan_bins, labels=[1, 2, 3, 4], include_lowest=True)\n",
    "\n",
    "# # Credit Score\n",
    "# credit_bins = pd.qcut(df_train['credit_score'], q=4, retbins=True)[1]\n",
    "# df_train['credit_score'] = pd.cut(df_train['credit_score'], bins=loan_bins, labels=[1, 2, 3, 4], include_lowest=True)\n",
    "\n",
    "# # Simpan intervalnya jika mau pakai di data lain\n",
    "# print(\"Age bins:\", age_bins)\n",
    "# print(\"Monthly Income bins:\", income_bins)\n",
    "# print(\"Loan Amount bins:\", loan_bins)\n",
    "# print(\"Credit Score bins:\", credit_bins)\n",
    "\n",
    "# # Simpan interval/bin ke file JSON\n",
    "# bin_ranges = {\n",
    "#     'age': list(age_bins),\n",
    "#     'monthly_income': list(income_bins),\n",
    "#     'loan_amount': list(loan_bins),\n",
    "#     'credit_score': list(credit_bins)\n",
    "# }\n",
    "\n",
    "# with open('../data/bin_ranges.json', 'w') as f:\n",
    "#     json.dump(bin_ranges, f)"
   ]
  },
  {
   "cell_type": "code",
   "execution_count": 16,
   "id": "794d4e22-bbda-4645-bde5-b9fa9eced58f",
   "metadata": {},
   "outputs": [],
   "source": [
    "# # Ubah range/binning data validation\n",
    "\n",
    "# # Load dari file JSON\n",
    "# with open('../data/bin_ranges.json', 'r') as f:\n",
    "#     bin_ranges = json.load(f)\n",
    "\n",
    "# # Extend age bins\n",
    "# age_bins = bin_ranges['age']\n",
    "# age_bins[-1] = np.inf  # Ubah batas atas jadi tak hingga\n",
    "\n",
    "# # Extend income bins\n",
    "# income_bins = bin_ranges['monthly_income']\n",
    "# income_bins[-1] = np.inf\n",
    "\n",
    "# # Extend loan bins\n",
    "# loan_bins = bin_ranges['loan_amount']\n",
    "# loan_bins[-1] = np.inf\n",
    "\n",
    "# # Extend credit bins\n",
    "# credit_bins = bin_ranges['credit_score']\n",
    "# credit_bins[-1] = np.inf\n",
    "\n",
    "# # Contoh pakai ke data test\n",
    "# df_val['age'] = pd.cut(\n",
    "#     df_val['age'],\n",
    "#     bins=age_bins,\n",
    "#     labels=[1, 2, 3, 4],\n",
    "#     include_lowest=True\n",
    "# )\n",
    "# df_val['monthly_income'] = pd.cut(\n",
    "#     df_val['monthly_income'],\n",
    "#     bins=income_bins,\n",
    "#     labels=[1, 2, 3, 4],\n",
    "#     include_lowest=True\n",
    "# )\n",
    "# df_val['loan_amount'] = pd.cut(\n",
    "#     df_val['loan_amount'],\n",
    "#     bins=loan_bins,\n",
    "#     labels=[1, 2, 3, 4],\n",
    "#     include_lowest=True\n",
    "# )\n",
    "# df_val['credit_score'] = pd.cut(\n",
    "#     df_val['credit_score'],\n",
    "#     bins=credit_bins,\n",
    "#     labels=[1, 2, 3, 4],\n",
    "#     include_lowest=True\n",
    "# )"
   ]
  },
  {
   "cell_type": "code",
   "execution_count": 17,
   "id": "cb4eb432-72a8-4a8a-8f1b-7d4d21576975",
   "metadata": {},
   "outputs": [],
   "source": [
    "# Tentukan kolom numerik yang akan discaling (tanpa kolom target)\n",
    "num_cols = ['age', 'monthly_income', 'loan_amount', 'previous_defaults', 'credit_score']\n",
    "\n",
    "# Fit scaler di data training\n",
    "scaler = StandardScaler()\n",
    "scaler.fit(df_train[num_cols])\n",
    "\n",
    "# Transformasi semua set (pakai scaler dari train!)\n",
    "df_train[num_cols] = scaler.transform(df_train[num_cols])\n",
    "df_val[num_cols] = scaler.transform(df_val[num_cols])"
   ]
  },
  {
   "cell_type": "code",
   "execution_count": 18,
   "id": "7d3deffa-6dc7-4d35-afa8-deb42da03643",
   "metadata": {},
   "outputs": [
    {
     "name": "stdout",
     "output_type": "stream",
     "text": [
      "Sebelum oversampling:\n",
      "default\n",
      "0    4742\n",
      "1      58\n",
      "Name: count, dtype: int64\n",
      "\n",
      "Setelah ADASYN oversampling:\n",
      "default\n",
      "0    4742\n",
      "1    4723\n",
      "Name: count, dtype: int64\n"
     ]
    }
   ],
   "source": [
    "# Inbalance Handling menggunakan ADASYN\n",
    "\n",
    "# Misal df_train sudah diproses dan punya kolom target 'default'\n",
    "X_train = df_train.drop(columns=['default'])\n",
    "y_train = df_train['default']\n",
    "\n",
    "# Oversampling dengan ADASYN\n",
    "adasyn = ADASYN(random_state=42, n_neighbors=5)\n",
    "X_res, y_res = adasyn.fit_resample(X_train, y_train)\n",
    "\n",
    "print('Sebelum oversampling:')\n",
    "print(y_train.value_counts())\n",
    "print('\\nSetelah ADASYN oversampling:')\n",
    "print(y_res.value_counts())"
   ]
  },
  {
   "cell_type": "markdown",
   "id": "ab1a8093-9d65-4568-92b7-11e8424adee4",
   "metadata": {},
   "source": [
    "## TRAIN AND VALIDATION"
   ]
  },
  {
   "cell_type": "markdown",
   "id": "f53573be-abb7-49e6-9020-de1ea585e80c",
   "metadata": {},
   "source": [
    "### Logistic Regression"
   ]
  },
  {
   "cell_type": "code",
   "execution_count": 19,
   "id": "199ffec8-d4c7-4b56-81cb-ae85daf02908",
   "metadata": {},
   "outputs": [
    {
     "name": "stdout",
     "output_type": "stream",
     "text": [
      "=== TRAIN SET ===\n",
      "              precision    recall  f1-score   support\n",
      "\n",
      "           0       0.81      0.73      0.77      4742\n",
      "           1       0.75      0.83      0.79      4723\n",
      "\n",
      "    accuracy                           0.78      9465\n",
      "   macro avg       0.78      0.78      0.78      9465\n",
      "weighted avg       0.78      0.78      0.78      9465\n",
      "\n",
      "AUC Train: 0.8291376416261387\n",
      "\n",
      "=== VALIDATION SET ===\n",
      "              precision    recall  f1-score   support\n",
      "\n",
      "           0       0.99      0.75      0.86       592\n",
      "           1       0.03      0.50      0.05         8\n",
      "\n",
      "    accuracy                           0.75       600\n",
      "   macro avg       0.51      0.63      0.45       600\n",
      "weighted avg       0.98      0.75      0.85       600\n",
      "\n",
      "AUC Validation: 0.6963682432432433\n"
     ]
    }
   ],
   "source": [
    "X_val = df_val.drop(columns=['default'])\n",
    "y_val = df_val['default']\n",
    "\n",
    "# Fit pada train hasil oversampling\n",
    "base_model = LogisticRegression(random_state=42, max_iter=1000)\n",
    "base_model.fit(X_res, y_res)  # X_res, y_res = hasil ADASYN\n",
    "\n",
    "# Prediksi pada validation set\n",
    "y_val_pred = base_model.predict(X_val)\n",
    "y_val_prob = base_model.predict_proba(X_val)[:, 1]\n",
    "\n",
    "# Evaluasi\n",
    "# Train\n",
    "y_train_pred = base_model.predict(X_res)\n",
    "y_train_prob = base_model.predict_proba(X_res)[:,1]\n",
    "print(\"=== TRAIN SET ===\")\n",
    "print(classification_report(y_res, y_train_pred))\n",
    "print(\"AUC Train:\", roc_auc_score(y_res, y_train_prob))\n",
    "\n",
    "# Validation\n",
    "y_val_pred = base_model.predict(X_val)\n",
    "y_val_prob = base_model.predict_proba(X_val)[:,1]\n",
    "print(\"\\n=== VALIDATION SET ===\")\n",
    "print(classification_report(y_val, y_val_pred))\n",
    "print(\"AUC Validation:\", roc_auc_score(y_val, y_val_prob))"
   ]
  },
  {
   "cell_type": "markdown",
   "id": "ce0c8f38-e188-4a9d-a82b-9be178dfb025",
   "metadata": {},
   "source": [
    "### Gradient Boosting"
   ]
  },
  {
   "cell_type": "code",
   "execution_count": 20,
   "id": "82ea4e2c-97ba-42b0-9dd5-1dd13dc037a4",
   "metadata": {},
   "outputs": [
    {
     "name": "stdout",
     "output_type": "stream",
     "text": [
      "=== TRAIN SET (Gradient Boosting) ===\n",
      "              precision    recall  f1-score   support\n",
      "\n",
      "           0       0.95      0.85      0.89      4742\n",
      "           1       0.86      0.95      0.90      4723\n",
      "\n",
      "    accuracy                           0.90      9465\n",
      "   macro avg       0.90      0.90      0.90      9465\n",
      "weighted avg       0.90      0.90      0.90      9465\n",
      "\n",
      "AUC Train: 0.9601323708838707\n",
      "\n",
      "=== VALIDATION SET (Gradient Boosting) ===\n",
      "              precision    recall  f1-score   support\n",
      "\n",
      "           0       0.99      0.85      0.92       592\n",
      "           1       0.03      0.38      0.06         8\n",
      "\n",
      "    accuracy                           0.85       600\n",
      "   macro avg       0.51      0.61      0.49       600\n",
      "weighted avg       0.98      0.85      0.91       600\n",
      "\n",
      "AUC Validation: 0.6015625\n"
     ]
    }
   ],
   "source": [
    "# Fit pada train hasil oversampling (X_res, y_res)\n",
    "gb_model = GradientBoostingClassifier(random_state=42)\n",
    "gb_model.fit(X_res, y_res)\n",
    "\n",
    "# Train set\n",
    "y_train_pred = gb_model.predict(X_res)\n",
    "y_train_prob = gb_model.predict_proba(X_res)[:,1]\n",
    "print(\"=== TRAIN SET (Gradient Boosting) ===\")\n",
    "print(classification_report(y_res, y_train_pred))\n",
    "print(\"AUC Train:\", roc_auc_score(y_res, y_train_prob))\n",
    "\n",
    "# Validation set\n",
    "y_val_pred = gb_model.predict(X_val)\n",
    "y_val_prob = gb_model.predict_proba(X_val)[:,1]\n",
    "print(\"\\n=== VALIDATION SET (Gradient Boosting) ===\")\n",
    "print(classification_report(y_val, y_val_pred))\n",
    "print(\"AUC Validation:\", roc_auc_score(y_val, y_val_prob))"
   ]
  },
  {
   "cell_type": "markdown",
   "id": "72b7a889-e295-4d0c-93a6-f6692321b364",
   "metadata": {},
   "source": [
    "## Testing"
   ]
  },
  {
   "cell_type": "code",
   "execution_count": 21,
   "id": "6286c489-f34c-4d88-b797-dee2b850fd04",
   "metadata": {},
   "outputs": [],
   "source": [
    "# # Ubah range/binning data validation\n",
    "\n",
    "# # Load dari file JSON\n",
    "# with open('../data/bin_ranges.json', 'r') as f:\n",
    "#     bin_ranges = json.load(f)\n",
    "\n",
    "# # Extend age bins\n",
    "# age_bins = bin_ranges['age']\n",
    "# age_bins[-1] = np.inf  # Ubah batas atas jadi tak hingga\n",
    "\n",
    "# # Extend income bins\n",
    "# income_bins = bin_ranges['monthly_income']\n",
    "# income_bins[-1] = np.inf\n",
    "\n",
    "# # Extend loan bins\n",
    "# loan_bins = bin_ranges['loan_amount']\n",
    "# loan_bins[-1] = np.inf\n",
    "\n",
    "# # Extend credit bins\n",
    "# credit_bins = bin_ranges['credit_score']\n",
    "# credit_bins[-1] = np.inf\n",
    "\n",
    "# # Contoh pakai ke data test\n",
    "# df_test['age'] = pd.cut(\n",
    "#     df_test['age'],\n",
    "#     bins=age_bins,\n",
    "#     labels=[1, 2, 3, 4],\n",
    "#     include_lowest=True\n",
    "# )\n",
    "# df_test['monthly_income'] = pd.cut(\n",
    "#     df_test['monthly_income'],\n",
    "#     bins=income_bins,\n",
    "#     labels=[1, 2, 3, 4],\n",
    "#     include_lowest=True\n",
    "# )\n",
    "# df_test['loan_amount'] = pd.cut(\n",
    "#     df_test['loan_amount'],\n",
    "#     bins=loan_bins,\n",
    "#     labels=[1, 2, 3, 4],\n",
    "#     include_lowest=True\n",
    "# )\n",
    "# df_test['credit_score'] = pd.cut(\n",
    "#     df_test['credit_score'],\n",
    "#     bins=credit_bins,\n",
    "#     labels=[1, 2, 3, 4],\n",
    "#     include_lowest=True\n",
    "# )"
   ]
  },
  {
   "cell_type": "code",
   "execution_count": 22,
   "id": "60a5a31b-2d06-43de-975f-8c55cd8cb3af",
   "metadata": {},
   "outputs": [],
   "source": [
    "# SCALING TEST\n",
    "\n",
    "# Tentukan kolom numerik yang akan discaling (tanpa kolom target)\n",
    "num_cols = ['age', 'monthly_income', 'loan_amount', 'previous_defaults', 'credit_score']\n",
    "\n",
    "df_test[num_cols] = scaler.transform(df_test[num_cols])"
   ]
  },
  {
   "cell_type": "code",
   "execution_count": 23,
   "id": "904830a4-7cc2-4732-b862-5960bce1d198",
   "metadata": {},
   "outputs": [
    {
     "name": "stdout",
     "output_type": "stream",
     "text": [
      "=== TEST SET ===\n",
      "              precision    recall  f1-score   support\n",
      "\n",
      "           0       1.00      0.74      0.85       593\n",
      "           1       0.03      0.71      0.06         7\n",
      "\n",
      "    accuracy                           0.74       600\n",
      "   macro avg       0.51      0.73      0.45       600\n",
      "weighted avg       0.98      0.74      0.84       600\n",
      "\n",
      "AUC Test: 0.8096844133943627\n"
     ]
    }
   ],
   "source": [
    "# Siapkan data test\n",
    "X_test = df_test.drop(columns=['default'])\n",
    "y_test = df_test['default']\n",
    "\n",
    "# Prediksi pada test set\n",
    "y_test_pred = base_model.predict(X_test)\n",
    "y_test_prob = base_model.predict_proba(X_test)[:, 1]\n",
    "\n",
    "# Evaluasi pada test set\n",
    "print(\"=== TEST SET ===\")\n",
    "print(classification_report(y_test, y_test_pred))\n",
    "print(\"AUC Test:\", roc_auc_score(y_test, y_test_prob))"
   ]
  },
  {
   "cell_type": "code",
   "execution_count": 24,
   "id": "cb6b0ada-5c7d-4f12-b7c6-a8b564409c90",
   "metadata": {},
   "outputs": [
    {
     "name": "stdout",
     "output_type": "stream",
     "text": [
      "=== TEST SET (Gradient Boosting) ===\n",
      "              precision    recall  f1-score   support\n",
      "\n",
      "           0       0.99      0.83      0.90       593\n",
      "           1       0.01      0.14      0.02         7\n",
      "\n",
      "    accuracy                           0.82       600\n",
      "   macro avg       0.50      0.48      0.46       600\n",
      "weighted avg       0.98      0.82      0.89       600\n",
      "\n",
      "AUC Test: 0.5882919778366659\n"
     ]
    }
   ],
   "source": [
    "# Siapkan data test\n",
    "X_test = df_test.drop(columns=['default'])\n",
    "y_test = df_test['default']\n",
    "\n",
    "# Prediksi pada test set\n",
    "y_test_pred = gb_model.predict(X_test)\n",
    "y_test_prob = gb_model.predict_proba(X_test)[:, 1]\n",
    "\n",
    "print(\"=== TEST SET (Gradient Boosting) ===\")\n",
    "print(classification_report(y_test, y_test_pred))\n",
    "print(\"AUC Test:\", roc_auc_score(y_test, y_test_prob))"
   ]
  },
  {
   "cell_type": "markdown",
   "id": "9c1eb6d9-19e7-4c1a-97df-506f2eb68526",
   "metadata": {},
   "source": [
    "## Fungsi scorecard(prob)"
   ]
  },
  {
   "cell_type": "code",
   "execution_count": 55,
   "id": "62df10ee-32fa-48b1-aac0-4ffc78e68541",
   "metadata": {},
   "outputs": [
    {
     "data": {
      "text/html": [
       "<div>\n",
       "<style scoped>\n",
       "    .dataframe tbody tr th:only-of-type {\n",
       "        vertical-align: middle;\n",
       "    }\n",
       "\n",
       "    .dataframe tbody tr th {\n",
       "        vertical-align: top;\n",
       "    }\n",
       "\n",
       "    .dataframe thead th {\n",
       "        text-align: right;\n",
       "    }\n",
       "</style>\n",
       "<table border=\"1\" class=\"dataframe\">\n",
       "  <thead>\n",
       "    <tr style=\"text-align: right;\">\n",
       "      <th></th>\n",
       "      <th>age</th>\n",
       "      <th>monthly_income</th>\n",
       "      <th>loan_amount</th>\n",
       "      <th>previous_defaults</th>\n",
       "      <th>credit_score</th>\n",
       "      <th>true_label</th>\n",
       "      <th>pred_label</th>\n",
       "      <th>predict_proba_default</th>\n",
       "      <th>scorecard</th>\n",
       "    </tr>\n",
       "  </thead>\n",
       "  <tbody>\n",
       "    <tr>\n",
       "      <th>251</th>\n",
       "      <td>35.0</td>\n",
       "      <td>13695714.0</td>\n",
       "      <td>3879254.0</td>\n",
       "      <td>2.775558e-17</td>\n",
       "      <td>548.0</td>\n",
       "      <td>0</td>\n",
       "      <td>0</td>\n",
       "      <td>0.091075</td>\n",
       "      <td>350.091288</td>\n",
       "    </tr>\n",
       "    <tr>\n",
       "      <th>5369</th>\n",
       "      <td>43.0</td>\n",
       "      <td>5534428.0</td>\n",
       "      <td>1895673.0</td>\n",
       "      <td>2.775558e-17</td>\n",
       "      <td>569.0</td>\n",
       "      <td>0</td>\n",
       "      <td>0</td>\n",
       "      <td>0.135345</td>\n",
       "      <td>374.439725</td>\n",
       "    </tr>\n",
       "    <tr>\n",
       "      <th>2304</th>\n",
       "      <td>26.0</td>\n",
       "      <td>17212396.0</td>\n",
       "      <td>6807879.0</td>\n",
       "      <td>2.775558e-17</td>\n",
       "      <td>315.0</td>\n",
       "      <td>0</td>\n",
       "      <td>0</td>\n",
       "      <td>0.375357</td>\n",
       "      <td>506.446479</td>\n",
       "    </tr>\n",
       "    <tr>\n",
       "      <th>4073</th>\n",
       "      <td>52.0</td>\n",
       "      <td>13227115.0</td>\n",
       "      <td>7238455.0</td>\n",
       "      <td>2.775558e-17</td>\n",
       "      <td>636.0</td>\n",
       "      <td>0</td>\n",
       "      <td>0</td>\n",
       "      <td>0.118592</td>\n",
       "      <td>365.225778</td>\n",
       "    </tr>\n",
       "    <tr>\n",
       "      <th>1675</th>\n",
       "      <td>48.0</td>\n",
       "      <td>9917447.0</td>\n",
       "      <td>10140367.0</td>\n",
       "      <td>2.775558e-17</td>\n",
       "      <td>497.0</td>\n",
       "      <td>0</td>\n",
       "      <td>1</td>\n",
       "      <td>0.513407</td>\n",
       "      <td>582.373738</td>\n",
       "    </tr>\n",
       "    <tr>\n",
       "      <th>...</th>\n",
       "      <td>...</td>\n",
       "      <td>...</td>\n",
       "      <td>...</td>\n",
       "      <td>...</td>\n",
       "      <td>...</td>\n",
       "      <td>...</td>\n",
       "      <td>...</td>\n",
       "      <td>...</td>\n",
       "      <td>...</td>\n",
       "    </tr>\n",
       "    <tr>\n",
       "      <th>2926</th>\n",
       "      <td>49.0</td>\n",
       "      <td>8479944.0</td>\n",
       "      <td>7391425.0</td>\n",
       "      <td>1.000000e+00</td>\n",
       "      <td>313.0</td>\n",
       "      <td>0</td>\n",
       "      <td>1</td>\n",
       "      <td>0.821618</td>\n",
       "      <td>751.889670</td>\n",
       "    </tr>\n",
       "    <tr>\n",
       "      <th>881</th>\n",
       "      <td>37.0</td>\n",
       "      <td>18563790.0</td>\n",
       "      <td>4929983.0</td>\n",
       "      <td>2.775558e-17</td>\n",
       "      <td>332.0</td>\n",
       "      <td>0</td>\n",
       "      <td>0</td>\n",
       "      <td>0.220861</td>\n",
       "      <td>421.473663</td>\n",
       "    </tr>\n",
       "    <tr>\n",
       "      <th>3944</th>\n",
       "      <td>44.0</td>\n",
       "      <td>16847622.0</td>\n",
       "      <td>13381584.0</td>\n",
       "      <td>2.775558e-17</td>\n",
       "      <td>465.0</td>\n",
       "      <td>1</td>\n",
       "      <td>1</td>\n",
       "      <td>0.536658</td>\n",
       "      <td>595.161791</td>\n",
       "    </tr>\n",
       "    <tr>\n",
       "      <th>4988</th>\n",
       "      <td>23.0</td>\n",
       "      <td>15571773.0</td>\n",
       "      <td>2316142.0</td>\n",
       "      <td>2.775558e-17</td>\n",
       "      <td>832.0</td>\n",
       "      <td>0</td>\n",
       "      <td>0</td>\n",
       "      <td>0.008203</td>\n",
       "      <td>304.511552</td>\n",
       "    </tr>\n",
       "    <tr>\n",
       "      <th>2159</th>\n",
       "      <td>52.0</td>\n",
       "      <td>7679095.0</td>\n",
       "      <td>3122551.0</td>\n",
       "      <td>2.775558e-17</td>\n",
       "      <td>722.0</td>\n",
       "      <td>0</td>\n",
       "      <td>0</td>\n",
       "      <td>0.054775</td>\n",
       "      <td>330.126496</td>\n",
       "    </tr>\n",
       "  </tbody>\n",
       "</table>\n",
       "<p>600 rows × 9 columns</p>\n",
       "</div>"
      ],
      "text/plain": [
       "       age  monthly_income  loan_amount  previous_defaults  credit_score  \\\n",
       "251   35.0      13695714.0    3879254.0       2.775558e-17         548.0   \n",
       "5369  43.0       5534428.0    1895673.0       2.775558e-17         569.0   \n",
       "2304  26.0      17212396.0    6807879.0       2.775558e-17         315.0   \n",
       "4073  52.0      13227115.0    7238455.0       2.775558e-17         636.0   \n",
       "1675  48.0       9917447.0   10140367.0       2.775558e-17         497.0   \n",
       "...    ...             ...          ...                ...           ...   \n",
       "2926  49.0       8479944.0    7391425.0       1.000000e+00         313.0   \n",
       "881   37.0      18563790.0    4929983.0       2.775558e-17         332.0   \n",
       "3944  44.0      16847622.0   13381584.0       2.775558e-17         465.0   \n",
       "4988  23.0      15571773.0    2316142.0       2.775558e-17         832.0   \n",
       "2159  52.0       7679095.0    3122551.0       2.775558e-17         722.0   \n",
       "\n",
       "      true_label  pred_label  predict_proba_default   scorecard  \n",
       "251            0           0               0.091075  350.091288  \n",
       "5369           0           0               0.135345  374.439725  \n",
       "2304           0           0               0.375357  506.446479  \n",
       "4073           0           0               0.118592  365.225778  \n",
       "1675           0           1               0.513407  582.373738  \n",
       "...          ...         ...                    ...         ...  \n",
       "2926           0           1               0.821618  751.889670  \n",
       "881            0           0               0.220861  421.473663  \n",
       "3944           1           1               0.536658  595.161791  \n",
       "4988           0           0               0.008203  304.511552  \n",
       "2159           0           0               0.054775  330.126496  \n",
       "\n",
       "[600 rows x 9 columns]"
      ]
     },
     "execution_count": 55,
     "metadata": {},
     "output_type": "execute_result"
    }
   ],
   "source": [
    "# MENGGUNAKAN MODEL TERBAIK LOGISTIC REGRESSION\n",
    "\n",
    "# Dapatkan probabilitas default (kelas 0)\n",
    "y_test_prob_0 = base_model.predict_proba(X_test)[:, 0]\n",
    "\n",
    "# Dapatkan probabilitas default (kelas 1)\n",
    "y_test_prob = base_model.predict_proba(X_test)[:, 1]\n",
    "\n",
    "# Fungsi scorecard: mapping probabilitas ke skala 300-850\n",
    "def scorecard(prob, min_score=300, max_score=850):\n",
    "    return (1 - prob) * (max_score - min_score) + min_score\n",
    "\n",
    "# Ubah semua probabilitas menjadi skor\n",
    "y_test_score = scorecard(y_test_prob_0)\n",
    "\n",
    "# Inverse scaling fitur numerik test\n",
    "X_test_inverse = X_test.copy()\n",
    "X_test_inverse[num_cols] = scaler.inverse_transform(X_test[num_cols])\n",
    "\n",
    "# (Opsional) Gabungkan ke DataFrame untuk analisis/reporting\n",
    "df_scorecard = X_test_inverse.copy()\n",
    "df_scorecard['true_label'] = y_test\n",
    "df_scorecard['pred_label'] = (y_test_prob >= 0.5).astype(int)\n",
    "df_scorecard['predict_proba_default'] = y_test_prob\n",
    "df_scorecard['scorecard'] = y_test_score\n",
    "\n",
    "df_scorecard"
   ]
  },
  {
   "cell_type": "code",
   "execution_count": 56,
   "id": "a6a23432-ae22-42fb-a87b-854101da32df",
   "metadata": {},
   "outputs": [
    {
     "data": {
      "text/html": [
       "<div>\n",
       "<style scoped>\n",
       "    .dataframe tbody tr th:only-of-type {\n",
       "        vertical-align: middle;\n",
       "    }\n",
       "\n",
       "    .dataframe tbody tr th {\n",
       "        vertical-align: top;\n",
       "    }\n",
       "\n",
       "    .dataframe thead th {\n",
       "        text-align: right;\n",
       "    }\n",
       "</style>\n",
       "<table border=\"1\" class=\"dataframe\">\n",
       "  <thead>\n",
       "    <tr style=\"text-align: right;\">\n",
       "      <th></th>\n",
       "      <th>credit_score</th>\n",
       "      <th>scorecard</th>\n",
       "    </tr>\n",
       "  </thead>\n",
       "  <tbody>\n",
       "    <tr>\n",
       "      <th>credit_score</th>\n",
       "      <td>1.000000</td>\n",
       "      <td>-0.605027</td>\n",
       "    </tr>\n",
       "    <tr>\n",
       "      <th>scorecard</th>\n",
       "      <td>-0.605027</td>\n",
       "      <td>1.000000</td>\n",
       "    </tr>\n",
       "  </tbody>\n",
       "</table>\n",
       "</div>"
      ],
      "text/plain": [
       "              credit_score  scorecard\n",
       "credit_score      1.000000  -0.605027\n",
       "scorecard        -0.605027   1.000000"
      ]
     },
     "execution_count": 56,
     "metadata": {},
     "output_type": "execute_result"
    }
   ],
   "source": [
    "df_scorecard[['credit_score','scorecard']].corr()"
   ]
  }
 ],
 "metadata": {
  "kernelspec": {
   "display_name": "Python 3 (ipykernel)",
   "language": "python",
   "name": "python3"
  },
  "language_info": {
   "codemirror_mode": {
    "name": "ipython",
    "version": 3
   },
   "file_extension": ".py",
   "mimetype": "text/x-python",
   "name": "python",
   "nbconvert_exporter": "python",
   "pygments_lexer": "ipython3",
   "version": "3.12.10"
  }
 },
 "nbformat": 4,
 "nbformat_minor": 5
}
